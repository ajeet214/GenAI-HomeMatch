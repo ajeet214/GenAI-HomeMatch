{
 "cells": [
  {
   "cell_type": "markdown",
   "id": "a108af04",
   "metadata": {},
   "source": [
    "This is a starter notebook for the project, you'll have to import the libraries you'll need, you can find a list of the ones available in this workspace in the requirements.txt file in this workspace. "
   ]
  },
  {
   "cell_type": "code",
   "execution_count": 15,
   "id": "6554fd4c",
   "metadata": {},
   "outputs": [],
   "source": [
    "import os\n",
    "\n",
    "import openai\n",
    "openai.api_base = \"https://openai.vocareum.com/v1\"\n",
    "openai.api_key = \"voc-1398922860126677349004466dd8e4d6e8d10.19282078\""
   ]
  },
  {
   "cell_type": "code",
   "execution_count": 16,
   "id": "362fe630-2a4d-4bd1-a523-10a3f3604ab3",
   "metadata": {},
   "outputs": [
    {
     "name": "stdout",
     "output_type": "stream",
     "text": [
      "0.28.1\n"
     ]
    }
   ],
   "source": [
    "import openai\n",
    "print(openai.__version__)"
   ]
  },
  {
   "cell_type": "code",
   "execution_count": 2,
   "id": "c6ce72fe",
   "metadata": {},
   "outputs": [
    {
     "name": "stdout",
     "output_type": "stream",
     "text": [
      "Collecting lancedb\n",
      "  Using cached lancedb-0.13.0-cp38-abi3-win_amd64.whl (23.7 MB)\n",
      "Requirement already satisfied: attrs>=21.3.0 in d:\\environments\\udacity\\lib\\site-packages (from lancedb) (24.2.0)\n",
      "Collecting deprecation\n",
      "  Using cached deprecation-2.1.0-py2.py3-none-any.whl (11 kB)\n",
      "Collecting pylance==0.17.0\n",
      "  Using cached pylance-0.17.0-cp39-abi3-win_amd64.whl (27.0 MB)\n",
      "Requirement already satisfied: pydantic>=1.10 in d:\\environments\\udacity\\lib\\site-packages (from lancedb) (1.10.18)\n",
      "Requirement already satisfied: packaging in d:\\environments\\udacity\\lib\\site-packages (from lancedb) (24.1)\n",
      "Requirement already satisfied: overrides>=0.7 in d:\\environments\\udacity\\lib\\site-packages (from lancedb) (7.7.0)\n",
      "Requirement already satisfied: tqdm>=4.27.0 in d:\\environments\\udacity\\lib\\site-packages (from lancedb) (4.66.5)\n",
      "Requirement already satisfied: requests>=2.31.0 in d:\\environments\\udacity\\lib\\site-packages (from lancedb) (2.32.3)\n",
      "Collecting retry>=0.9.2\n",
      "  Using cached retry-0.9.2-py2.py3-none-any.whl (8.0 kB)\n",
      "Collecting cachetools\n",
      "  Using cached cachetools-5.5.0-py3-none-any.whl (9.5 kB)\n",
      "Collecting pyarrow>=12\n",
      "  Using cached pyarrow-17.0.0-cp310-cp310-win_amd64.whl (25.1 MB)\n",
      "Requirement already satisfied: numpy<2,>=1.22 in d:\\environments\\udacity\\lib\\site-packages (from pylance==0.17.0->lancedb) (1.26.4)\n",
      "Requirement already satisfied: typing-extensions>=4.2.0 in d:\\environments\\udacity\\lib\\site-packages (from pydantic>=1.10->lancedb) (4.12.2)\n",
      "Requirement already satisfied: urllib3<3,>=1.21.1 in d:\\environments\\udacity\\lib\\site-packages (from requests>=2.31.0->lancedb) (2.2.3)\n",
      "Requirement already satisfied: charset-normalizer<4,>=2 in d:\\environments\\udacity\\lib\\site-packages (from requests>=2.31.0->lancedb) (3.3.2)\n",
      "Requirement already satisfied: idna<4,>=2.5 in d:\\environments\\udacity\\lib\\site-packages (from requests>=2.31.0->lancedb) (3.10)\n",
      "Requirement already satisfied: certifi>=2017.4.17 in d:\\environments\\udacity\\lib\\site-packages (from requests>=2.31.0->lancedb) (2024.8.30)\n",
      "Requirement already satisfied: decorator>=3.4.2 in d:\\environments\\udacity\\lib\\site-packages (from retry>=0.9.2->lancedb) (5.1.1)\n",
      "Collecting py<2.0.0,>=1.4.26\n",
      "  Using cached py-1.11.0-py2.py3-none-any.whl (98 kB)\n",
      "Requirement already satisfied: colorama in d:\\environments\\udacity\\lib\\site-packages (from tqdm>=4.27.0->lancedb) (0.4.6)\n",
      "Installing collected packages: pyarrow, py, deprecation, cachetools, retry, pylance, lancedb\n",
      "Successfully installed cachetools-5.5.0 deprecation-2.1.0 lancedb-0.13.0 py-1.11.0 pyarrow-17.0.0 pylance-0.17.0 retry-0.9.2\n"
     ]
    },
    {
     "name": "stderr",
     "output_type": "stream",
     "text": [
      "\n",
      "[notice] A new release of pip available: 22.3.1 -> 24.2\n",
      "[notice] To update, run: python.exe -m pip install --upgrade pip\n"
     ]
    },
    {
     "name": "stdout",
     "output_type": "stream",
     "text": [
      "Requirement already satisfied: ipywidgets in d:\\environments\\udacity\\lib\\site-packages (8.1.5)\n",
      "Requirement already satisfied: widgetsnbextension~=4.0.12 in d:\\environments\\udacity\\lib\\site-packages (from ipywidgets) (4.0.13)\n",
      "Requirement already satisfied: ipython>=6.1.0 in d:\\environments\\udacity\\lib\\site-packages (from ipywidgets) (8.27.0)\n",
      "Requirement already satisfied: jupyterlab-widgets~=3.0.12 in d:\\environments\\udacity\\lib\\site-packages (from ipywidgets) (3.0.13)\n",
      "Requirement already satisfied: traitlets>=4.3.1 in d:\\environments\\udacity\\lib\\site-packages (from ipywidgets) (5.14.3)\n",
      "Requirement already satisfied: comm>=0.1.3 in d:\\environments\\udacity\\lib\\site-packages (from ipywidgets) (0.2.2)\n",
      "Requirement already satisfied: jedi>=0.16 in d:\\environments\\udacity\\lib\\site-packages (from ipython>=6.1.0->ipywidgets) (0.19.1)\n",
      "Requirement already satisfied: matplotlib-inline in d:\\environments\\udacity\\lib\\site-packages (from ipython>=6.1.0->ipywidgets) (0.1.7)\n",
      "Requirement already satisfied: pygments>=2.4.0 in d:\\environments\\udacity\\lib\\site-packages (from ipython>=6.1.0->ipywidgets) (2.18.0)\n",
      "Requirement already satisfied: decorator in d:\\environments\\udacity\\lib\\site-packages (from ipython>=6.1.0->ipywidgets) (5.1.1)\n",
      "Requirement already satisfied: colorama in d:\\environments\\udacity\\lib\\site-packages (from ipython>=6.1.0->ipywidgets) (0.4.6)\n",
      "Requirement already satisfied: typing-extensions>=4.6 in d:\\environments\\udacity\\lib\\site-packages (from ipython>=6.1.0->ipywidgets) (4.12.2)\n",
      "Requirement already satisfied: stack-data in d:\\environments\\udacity\\lib\\site-packages (from ipython>=6.1.0->ipywidgets) (0.6.3)\n",
      "Requirement already satisfied: exceptiongroup in d:\\environments\\udacity\\lib\\site-packages (from ipython>=6.1.0->ipywidgets) (1.2.2)\n",
      "Requirement already satisfied: prompt-toolkit<3.1.0,>=3.0.41 in d:\\environments\\udacity\\lib\\site-packages (from ipython>=6.1.0->ipywidgets) (3.0.47)\n",
      "Requirement already satisfied: parso<0.9.0,>=0.8.3 in d:\\environments\\udacity\\lib\\site-packages (from jedi>=0.16->ipython>=6.1.0->ipywidgets) (0.8.4)\n",
      "Requirement already satisfied: wcwidth in d:\\environments\\udacity\\lib\\site-packages (from prompt-toolkit<3.1.0,>=3.0.41->ipython>=6.1.0->ipywidgets) (0.2.13)\n",
      "Requirement already satisfied: asttokens>=2.1.0 in d:\\environments\\udacity\\lib\\site-packages (from stack-data->ipython>=6.1.0->ipywidgets) (2.4.1)\n",
      "Requirement already satisfied: executing>=1.2.0 in d:\\environments\\udacity\\lib\\site-packages (from stack-data->ipython>=6.1.0->ipywidgets) (2.1.0)\n",
      "Requirement already satisfied: pure-eval in d:\\environments\\udacity\\lib\\site-packages (from stack-data->ipython>=6.1.0->ipywidgets) (0.2.3)\n",
      "Requirement already satisfied: six>=1.12.0 in d:\\environments\\udacity\\lib\\site-packages (from asttokens>=2.1.0->stack-data->ipython>=6.1.0->ipywidgets) (1.16.0)\n"
     ]
    },
    {
     "name": "stderr",
     "output_type": "stream",
     "text": [
      "\n",
      "[notice] A new release of pip available: 22.3.1 -> 24.2\n",
      "[notice] To update, run: python.exe -m pip install --upgrade pip\n"
     ]
    },
    {
     "name": "stdout",
     "output_type": "stream",
     "text": [
      "Collecting tantivy\n",
      "  Using cached tantivy-0.22.0-cp310-none-win_amd64.whl (2.6 MB)\n",
      "Installing collected packages: tantivy\n",
      "Successfully installed tantivy-0.22.0\n"
     ]
    },
    {
     "name": "stderr",
     "output_type": "stream",
     "text": [
      "\n",
      "[notice] A new release of pip available: 22.3.1 -> 24.2\n",
      "[notice] To update, run: python.exe -m pip install --upgrade pip\n"
     ]
    },
    {
     "name": "stdout",
     "output_type": "stream",
     "text": [
      "Collecting markdown\n",
      "  Using cached Markdown-3.7-py3-none-any.whl (106 kB)\n",
      "Installing collected packages: markdown\n",
      "Successfully installed markdown-3.7\n"
     ]
    },
    {
     "name": "stderr",
     "output_type": "stream",
     "text": [
      "\n",
      "[notice] A new release of pip available: 22.3.1 -> 24.2\n",
      "[notice] To update, run: python.exe -m pip install --upgrade pip\n"
     ]
    },
    {
     "name": "stdout",
     "output_type": "stream",
     "text": [
      "Collecting bs4\n",
      "  Using cached bs4-0.0.2-py2.py3-none-any.whl (1.2 kB)\n",
      "Requirement already satisfied: beautifulsoup4 in d:\\environments\\udacity\\lib\\site-packages (from bs4) (4.12.3)\n",
      "Requirement already satisfied: soupsieve>1.2 in d:\\environments\\udacity\\lib\\site-packages (from beautifulsoup4->bs4) (2.6)\n",
      "Installing collected packages: bs4\n",
      "Successfully installed bs4-0.0.2\n"
     ]
    },
    {
     "name": "stderr",
     "output_type": "stream",
     "text": [
      "\n",
      "[notice] A new release of pip available: 22.3.1 -> 24.2\n",
      "[notice] To update, run: python.exe -m pip install --upgrade pip\n"
     ]
    },
    {
     "name": "stdout",
     "output_type": "stream",
     "text": [
      "Collecting inflect\n",
      "  Using cached inflect-7.4.0-py3-none-any.whl (34 kB)\n",
      "Collecting typeguard>=4.0.1\n",
      "  Using cached typeguard-4.3.0-py3-none-any.whl (35 kB)\n",
      "Collecting more-itertools>=8.5.0\n",
      "  Using cached more_itertools-10.5.0-py3-none-any.whl (60 kB)\n",
      "Requirement already satisfied: typing-extensions>=4.10.0 in d:\\environments\\udacity\\lib\\site-packages (from typeguard>=4.0.1->inflect) (4.12.2)\n",
      "Installing collected packages: typeguard, more-itertools, inflect\n",
      "Successfully installed inflect-7.4.0 more-itertools-10.5.0 typeguard-4.3.0\n"
     ]
    },
    {
     "name": "stderr",
     "output_type": "stream",
     "text": [
      "\n",
      "[notice] A new release of pip available: 22.3.1 -> 24.2\n",
      "[notice] To update, run: python.exe -m pip install --upgrade pip\n"
     ]
    },
    {
     "name": "stdout",
     "output_type": "stream",
     "text": [
      "Collecting pandas\n",
      "  Using cached pandas-2.2.3-cp310-cp310-win_amd64.whl (11.6 MB)\n",
      "Collecting tzdata>=2022.7\n",
      "  Using cached tzdata-2024.1-py2.py3-none-any.whl (345 kB)\n",
      "Requirement already satisfied: numpy>=1.22.4 in d:\\environments\\udacity\\lib\\site-packages (from pandas) (1.26.4)\n",
      "Requirement already satisfied: python-dateutil>=2.8.2 in d:\\environments\\udacity\\lib\\site-packages (from pandas) (2.9.0.post0)\n",
      "Collecting pytz>=2020.1\n",
      "  Using cached pytz-2024.2-py2.py3-none-any.whl (508 kB)\n",
      "Requirement already satisfied: six>=1.5 in d:\\environments\\udacity\\lib\\site-packages (from python-dateutil>=2.8.2->pandas) (1.16.0)\n",
      "Installing collected packages: pytz, tzdata, pandas\n",
      "Successfully installed pandas-2.2.3 pytz-2024.2 tzdata-2024.1\n"
     ]
    },
    {
     "name": "stderr",
     "output_type": "stream",
     "text": [
      "\n",
      "[notice] A new release of pip available: 22.3.1 -> 24.2\n",
      "[notice] To update, run: python.exe -m pip install --upgrade pip\n"
     ]
    }
   ],
   "source": [
    "!pip install lancedb\n",
    "!pip install ipywidgets\n",
    "!pip install tantivy\n",
    "!pip install markdown\n",
    "!pip install bs4\n",
    "!pip install inflect\n",
    "!pip install pandas"
   ]
  },
  {
   "cell_type": "code",
   "execution_count": 17,
   "id": "3988a8ac-ac6e-43b7-a34e-c3fdb4d29d34",
   "metadata": {},
   "outputs": [
    {
     "name": "stdout",
     "output_type": "stream",
     "text": [
      "0.28.1\n"
     ]
    }
   ],
   "source": [
    "import openai\n",
    "print(openai.__version__)"
   ]
  },
  {
   "cell_type": "code",
   "execution_count": 18,
   "id": "c93d61e9",
   "metadata": {},
   "outputs": [],
   "source": [
    "import os\n",
    "import json\n",
    "import re\n",
    "import pandas as pd\n",
    "import numpy as np\n",
    "import openai\n",
    "\n",
    "from bs4 import BeautifulSoup\n",
    "from markdown import markdown\n",
    "\n",
    "from langchain.schema import HumanMessage, SystemMessage\n",
    "from langchain.chat_models import ChatOpenAI\n",
    "from langchain.document_loaders import TextLoader\n",
    "from langchain.embeddings import OpenAIEmbeddings\n",
    "from langchain.text_splitter import CharacterTextSplitter\n",
    "from langchain.vectorstores import LanceDB\n",
    "\n",
    "from lancedb.rerankers import LinearCombinationReranker\n",
    "import inflect\n",
    "import lancedb\n",
    "from lancedb.embeddings import get_registry\n",
    "from lancedb.pydantic import LanceModel, Vector\n",
    "\n",
    "import ipywidgets as widgets\n",
    "from IPython.display import display\n",
    "from ipywidgets import Layout, Button, Box, FloatText, Textarea, Dropdown, Label, IntSlider, FloatSlider"
   ]
  },
  {
   "cell_type": "markdown",
   "id": "e9fbb498-7712-4dc0-9f44-dbb22d8139c5",
   "metadata": {},
   "source": [
    "### load keys and files"
   ]
  },
  {
   "cell_type": "code",
   "execution_count": 19,
   "id": "10fb139a",
   "metadata": {},
   "outputs": [],
   "source": [
    "db_file = \"home_match.json\"\n"
   ]
  },
  {
   "cell_type": "code",
   "execution_count": 20,
   "id": "05c0abdb",
   "metadata": {},
   "outputs": [
    {
     "name": "stdout",
     "output_type": "stream",
     "text": [
      "[\n",
      "  {\n",
      "    \"location\": \"Downtown Los Angeles\",\n",
      "    \"list_price\": 1800000,\n",
      "    \"bedrooms\": 3,\n",
      "    \"bathrooms\": 2,\n",
      "    \"square_feet\": 1800,\n",
      "    \"school_rating\": 4.5,\n",
      "    \"description\": \"Luxurious penthouse with floor-to-ceiling windows, boasting stunning city views. Features a gourmet kitchen, spacious open layout, and private balcony. Building amenities include a rooftop pool, gym, and 24-hour concierge.\"\n",
      "  },\n",
      "  {\n",
      "    \"location\": \"Hollywood\",\n",
      "    \"list_price\": 2500000,\n",
      "    \"bedrooms\": 4,\n",
      "    \"bathrooms\": 4,\n",
      "    \"square_feet\": 2400,\n",
      "    \"school_rating\": 4.6,\n",
      "    \"description\": \"Modern villa nestled in the Hollywood Hills, featuring a home theater, infinity pool, and panoramic views of the city. This home is a true entertainer's dream, complete with high-end finishes and smart home technology.\"\n",
      "  },\n",
      "  {\n",
      "    \"location\": \"Santa Monica\",\n",
      "    \"list_price\": 3200000,\n",
      "    \"bedrooms\": 5,\n",
      "    \"bathrooms\": 4,\n",
      "    \"square_feet\": 3000,\n",
      "    \"school_rating\": 4.8,\n",
      "    \"description\": \"Stunning beachfront property with private access to the sand. This newly renovated home includes a chef's kitchen, spacious deck for entertaining, and large windows offering breathtaking ocean views. Walking distance to the pier and local dining.\"\n",
      "  },\n",
      "  {\n",
      "    \"location\": \"Sherman Oaks\",\n",
      "    \"list_price\": 1450000,\n",
      "    \"bedrooms\": 3,\n",
      "    \"bathrooms\": 2,\n",
      "    \"square_feet\": 2000,\n",
      "    \"school_rating\": 4.7,\n",
      "    \"description\": \"Charming ranch-style home in the heart of the Valley. Features an updated kitchen, large backyard with pool, and a cozy fireplace. Located on a quiet street with top-rated schools and easy access to Ventura Blvd.\"\n",
      "  },\n",
      "  {\n",
      "    \"location\": \"Silver Lake\",\n",
      "    \"list_price\": 1700000,\n",
      "    \"bedrooms\": 4,\n",
      "    \"bathrooms\": 3,\n",
      "    \"square_feet\": 2200,\n",
      "    \"school_rating\": 4.4,\n",
      "    \"description\": \"Architectural gem with modern design and eco-friendly features. This home includes solar panels, an open floor plan, and a rooftop garden. Located in a trendy neighborhood known for its vibrant art scene and cafes.\"\n",
      "  },\n",
      "  {\n",
      "    \"location\": \"Venice\",\n",
      "    \"list_price\": 2700000,\n",
      "    \"bedrooms\": 3,\n",
      "    \"bathrooms\": 3,\n",
      "    \"square_feet\": 2000,\n",
      "    \"school_rating\": 4.5,\n",
      "    \"description\": \"Contemporary beachfront condo just steps from the iconic Venice Boardwalk. Features include a gourmet kitchen, open-concept living area, and private rooftop deck with ocean views. Building offers a fitness center and secured parking.\"\n",
      "  },\n",
      "  {\n",
      "    \"location\": \"Beverly Hills\",\n",
      "    \"list_price\": 5200000,\n",
      "    \"bedrooms\": 6,\n",
      "    \"bathrooms\": 4,\n",
      "    \"square_feet\": 6000,\n",
      "    \"school_rating\": 4.9,\n",
      "    \"description\": \"Palatial estate in the heart of Beverly Hills, boasting a private gated entrance, grand foyer, and expansive outdoor entertaining spaces with a pool and tennis court. This luxurious home offers ultimate privacy and sophistication.\"\n",
      "  },\n",
      "  {\n",
      "    \"location\": \"Brentwood\",\n",
      "    \"list_price\": 4100000,\n",
      "    \"bedrooms\": 5,\n",
      "    \"bathrooms\": 3,\n",
      "    \"square_feet\": 4500,\n",
      "    \"school_rating\": 4.8,\n",
      "    \"description\": \"Elegant family home with a spacious layout, gourmet kitchen, and large backyard with a pool and garden. Located in a highly desirable neighborhood, close to parks, top-rated schools, and the Brentwood Country Club.\"\n",
      "  },\n",
      "  {\n",
      "    \"location\": \"Echo Park\",\n",
      "    \"list_price\": 1200000,\n",
      "    \"bedrooms\": 3,\n",
      "    \"bathrooms\": 2,\n",
      "    \"square_feet\": 1600,\n",
      "    \"school_rating\": 4.3,\n",
      "    \"description\": \"Mid-century modern home with open spaces, vaulted ceilings, and large windows providing plenty of natural light. This property features a private garden and is steps away from Echo Park Lake and local dining hotspots.\"\n",
      "  },\n",
      "  {\n",
      "    \"location\": \"San Pedro\",\n",
      "    \"list_price\": 950000,\n",
      "    \"bedrooms\": 3,\n",
      "    \"bathrooms\": 2,\n",
      "    \"square_feet\": 1800,\n",
      "    \"school_rating\": 4.1,\n",
      "    \"description\": \"Charming coastal home with harbor views and a spacious backyard. Updated kitchen and bathrooms, with easy access to the marina, parks, and San Pedro's vibrant waterfront.\"\n",
      "  }\n",
      "]\n"
     ]
    }
   ],
   "source": [
    "system_prompt = \"\"\"\n",
    "You are an expert real estate agent in Los Angeles in the USA.\n",
    "\"\"\"\n",
    "\n",
    "human_prompt= \"\"\"\n",
    "      Generate a minimum of 10 real estate listings using creativity and incorporating real properties as well.\n",
    "      Ensure the listings are distributed across all the areas and regions within the Los Angeles City. \n",
    "      Each listing should be represented as a JSON array of dictionaries, following the structure provided below:\n",
    "\n",
    "        {\n",
    "        \"location\": \"Downtown Los Angeles\",\n",
    "        \"list_price\": 1800000,\n",
    "        \"bedrooms\": 3,\n",
    "        \"bathrooms\": 2,\n",
    "        \"square_feet\": 1800,\n",
    "        \"school_rating\": 4.5,\n",
    "        \"description\": \"Luxurious penthouse with floor-to-ceiling windows, boasting stunning city views. Features a gourmet kitchen, spacious open layout, and private balcony. Building amenities include a rooftop pool, gym, and 24-hour concierge.\"\n",
    "       }\n",
    "    \"\"\"\n",
    "\n",
    "if os.path.isfile(path=db_file):\n",
    "  f = open(db_file, \"r\")\n",
    "  real_estate_listings = f.read()\n",
    "  f.close()\n",
    "else:\n",
    "  chat = ChatOpenAI(temperature=1)\n",
    "  messages = [\n",
    "      SystemMessage(\n",
    "          content=system_prompt\n",
    "      ),\n",
    "      HumanMessage(\n",
    "          content=human_prompt\n",
    "      ),\n",
    "  ]\n",
    "  aimessage = chat.invoke(messages)\n",
    "  real_estate_listings = json.loads(aimessage.json())[\"content\"]\n",
    "\n",
    "md_text = markdown(real_estate_listings)\n",
    "real_estate_listings_text = ''.join(BeautifulSoup(md_text).findAll(string=True))\n",
    "real_estate_listings_json = real_estate_listings_text.replace('json\\n', '')\n",
    "print(real_estate_listings_json)\n",
    "f = open(db_file, \"w\")\n",
    "f.write(real_estate_listings_json)\n",
    "f.close()"
   ]
  },
  {
   "cell_type": "code",
   "execution_count": 21,
   "id": "e49704b0-6249-4868-a5f9-f1e9c96f7c8a",
   "metadata": {},
   "outputs": [
    {
     "name": "stdout",
     "output_type": "stream",
     "text": [
      "               location  list_price  bedrooms  bathrooms  square_feet  \\\n",
      "0  Downtown Los Angeles   1800000.0         3          2       1800.0   \n",
      "1             Hollywood   2500000.0         4          4       2400.0   \n",
      "2          Santa Monica   3200000.0         5          4       3000.0   \n",
      "3          Sherman Oaks   1450000.0         3          2       2000.0   \n",
      "4           Silver Lake   1700000.0         4          3       2200.0   \n",
      "\n",
      "   school_rating                                        description  \\\n",
      "0            4.5  Luxurious penthouse with floor-to-ceiling wind...   \n",
      "1            4.6  Modern villa nestled in the Hollywood Hills, f...   \n",
      "2            4.8  Stunning beachfront property with private acce...   \n",
      "3            4.7  Charming ranch-style home in the heart of the ...   \n",
      "4            4.4  Architectural gem with modern design and eco-f...   \n",
      "\n",
      "                                  description_vector  \n",
      "0  [0.0045068543, 0.0021039487, 0.008447941, -0.0...  \n",
      "1  [-0.008148264, -0.000863574, -0.0024309205, -0...  \n",
      "2  [-0.0031856077, 0.0017617376, 0.023554191, -0....  \n",
      "3  [-0.0015524372, 0.030469513, -0.005012455, -0....  \n",
      "4  [0.000758627, 0.012596925, -0.0009355592, 0.00...  \n"
     ]
    }
   ],
   "source": [
    "df = pd.read_json(db_file)\n",
    "\n",
    "# Connect to LanceDB\n",
    "db = lancedb.connect(\"real-estate-embeddings-db\")\n",
    "\n",
    "# Define the schema for the real estate listings\n",
    "class RealEstateListings(LanceModel):\n",
    "    location: str\n",
    "    list_price: float\n",
    "    bedrooms: int\n",
    "    bathrooms: int\n",
    "    square_feet: float\n",
    "    school_rating: float\n",
    "    description: str\n",
    "    description_vector: Vector(1536)\n",
    "\n",
    "# Check if the listings table exists\n",
    "if 'listings' in db.table_names():\n",
    "  table = db.open_table(\"listings\")\n",
    "else:\n",
    "  table = db.create_table(\"listings\", schema=RealEstateListings)\n",
    "    \n",
    "  # Prepare data for insertion\n",
    "  data = []\n",
    "  for _, row in df.iterrows():\n",
    "    # Directly call OpenAI API to get embeddings for the description\n",
    "    response = openai.Embedding.create(\n",
    "            model=\"text-embedding-ada-002\",  # Specify the model\n",
    "            input=row[\"description\"]\n",
    "        )\n",
    "        \n",
    "    # Extract the embedding vector\n",
    "    embedding_vector = response['data'][0]['embedding']\n",
    "        \n",
    "    # Append data for the table\n",
    "    data.append({\n",
    "        \"location\": row[\"location\"],\n",
    "        \"list_price\": row[\"list_price\"],\n",
    "        \"bedrooms\": row[\"bedrooms\"],\n",
    "        \"bathrooms\": row[\"bathrooms\"],\n",
    "        \"square_feet\": row[\"square_feet\"],\n",
    "        \"school_rating\": row[\"school_rating\"],\n",
    "        \"description\": row[\"description\"],\n",
    "        \"description_vector\": embedding_vector\n",
    "    })\n",
    "  table.add(data)\n",
    "print(table.to_pandas().head())"
   ]
  },
  {
   "cell_type": "code",
   "execution_count": null,
   "id": "e8ed2daf-2fea-4a77-aa3d-89c69f753075",
   "metadata": {},
   "outputs": [],
   "source": [
    "#### User Interface "
   ]
  },
  {
   "cell_type": "code",
   "execution_count": null,
   "id": "e3422bbf-d8f2-44a5-b4e5-612c3e3aa718",
   "metadata": {},
   "outputs": [],
   "source": [
    "\n",
    "form_item_layout = Layout(\n",
    "    display='flex',\n",
    "    flex_flow='row',\n",
    "    justify_content='space-between'\n",
    ")\n",
    "\n",
    "form_items = [\n",
    "    Box([Label(value='Max Price'), FloatSlider(min=1000000, max=5000000, step=10000, value=5000000)], layout=form_item_layout),\n",
    "    Box([Label(value='Bed Rooms minimum'), FloatSlider(min=1, max=10, step=1)], layout=form_item_layout),\n",
    "    Box([Label(value='Bath Rooms minimum'), FloatSlider(min=1, max=10, step=1)], layout=form_item_layout),\n",
    "    Box([Label(value='School Ratings'), FloatSlider(min=1, max=5, step=1)], layout=form_item_layout),\n",
    "    Box([Label(value='Square Footage'), FloatSlider(min=1000, max=5000, step=500)], layout=form_item_layout),\n",
    "    Box([Label(value='Preferences'),\n",
    "         Textarea(value=\"brownstone prewar historic\")], layout=form_item_layout)\n",
    "]\n",
    "\n",
    "form = Box(form_items, layout=Layout(\n",
    "    display='flex',\n",
    "    flex_flow='column',\n",
    "    border='solid 2px',\n",
    "    align_items='stretch',\n",
    "    width='50%'\n",
    "))\n",
    "form\n"
   ]
  }
 ],
 "metadata": {
  "kernelspec": {
   "display_name": "Python 3 (ipykernel)",
   "language": "python",
   "name": "python3"
  },
  "language_info": {
   "codemirror_mode": {
    "name": "ipython",
    "version": 3
   },
   "file_extension": ".py",
   "mimetype": "text/x-python",
   "name": "python",
   "nbconvert_exporter": "python",
   "pygments_lexer": "ipython3",
   "version": "3.10.9"
  }
 },
 "nbformat": 4,
 "nbformat_minor": 5
}
