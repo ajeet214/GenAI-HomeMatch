{
 "cells": [
  {
   "cell_type": "markdown",
   "id": "a108af04",
   "metadata": {},
   "source": [
    "This is a starter notebook for the project, you'll have to import the libraries you'll need, you can find a list of the ones available in this workspace in the requirements.txt file in this workspace. "
   ]
  },
  {
   "cell_type": "markdown",
   "id": "2b715576-c77e-433d-b23b-0de38948068e",
   "metadata": {},
   "source": [
    "### Import API onfig and credentails from the credential file"
   ]
  },
  {
   "cell_type": "code",
   "execution_count": 1,
   "id": "6554fd4c",
   "metadata": {},
   "outputs": [],
   "source": [
    "import os\n",
    "import os\n",
    "\n",
    "import openai\n",
    "openai.api_base = \"https://openai.vocareum.com/v1\"\n",
    "openai.api_key = \"YOUR_API_KEY\""
   ]
  },
  {
   "cell_type": "markdown",
   "id": "ac28ecaf-cf3d-4bcb-9b2c-b2be0bd7dbbf",
   "metadata": {},
   "source": [
    "### Install dependencies and libraries"
   ]
  },
  {
   "cell_type": "code",
   "execution_count": 2,
   "id": "b0ec1519-5982-4959-8f3b-840c6ee89c41",
   "metadata": {},
   "outputs": [
    {
     "name": "stdout",
     "output_type": "stream",
     "text": [
      "Requirement already satisfied: langchain==0.0.305 in d:\\environments\\genai-homematch\\env\\lib\\site-packages (from -r requirements.txt (line 2)) (0.0.305)\n",
      "Requirement already satisfied: openai==0.28.1 in d:\\environments\\genai-homematch\\env\\lib\\site-packages (from -r requirements.txt (line 3)) (0.28.1)\n",
      "Requirement already satisfied: pydantic>=1.10.12 in d:\\environments\\genai-homematch\\env\\lib\\site-packages (from -r requirements.txt (line 4)) (1.10.18)\n",
      "Requirement already satisfied: pytest>=7.4.0 in d:\\environments\\genai-homematch\\env\\lib\\site-packages (from -r requirements.txt (line 5)) (8.3.3)\n",
      "Requirement already satisfied: sentence-transformers>=2.2.0 in d:\\environments\\genai-homematch\\env\\lib\\site-packages (from -r requirements.txt (line 6)) (3.1.1)\n",
      "Requirement already satisfied: transformers>=4.31.0 in d:\\environments\\genai-homematch\\env\\lib\\site-packages (from -r requirements.txt (line 7)) (4.44.2)\n",
      "Requirement already satisfied: chromadb==0.4.12 in d:\\environments\\genai-homematch\\env\\lib\\site-packages (from -r requirements.txt (line 8)) (0.4.12)\n",
      "Requirement already satisfied: jupyter==1.0.0 in d:\\environments\\genai-homematch\\env\\lib\\site-packages (from -r requirements.txt (line 9)) (1.0.0)\n",
      "Requirement already satisfied: tiktoken==0.4.0 in d:\\environments\\genai-homematch\\env\\lib\\site-packages (from -r requirements.txt (line 10)) (0.4.0)\n",
      "Requirement already satisfied: lancedb in d:\\environments\\genai-homematch\\env\\lib\\site-packages (from -r requirements.txt (line 11)) (0.13.0)\n",
      "Requirement already satisfied: ipywidgets in d:\\environments\\genai-homematch\\env\\lib\\site-packages (from -r requirements.txt (line 12)) (8.1.5)\n",
      "Requirement already satisfied: tantivy in d:\\environments\\genai-homematch\\env\\lib\\site-packages (from -r requirements.txt (line 13)) (0.22.0)\n",
      "Requirement already satisfied: markdown in d:\\environments\\genai-homematch\\env\\lib\\site-packages (from -r requirements.txt (line 14)) (3.7)\n",
      "Requirement already satisfied: bs4 in d:\\environments\\genai-homematch\\env\\lib\\site-packages (from -r requirements.txt (line 15)) (0.0.2)\n",
      "Requirement already satisfied: inflect in d:\\environments\\genai-homematch\\env\\lib\\site-packages (from -r requirements.txt (line 16)) (7.4.0)\n",
      "Requirement already satisfied: pandas in d:\\environments\\genai-homematch\\env\\lib\\site-packages (from -r requirements.txt (line 17)) (2.2.3)\n",
      "Requirement already satisfied: langsmith<0.1.0,>=0.0.38 in d:\\environments\\genai-homematch\\env\\lib\\site-packages (from langchain==0.0.305->-r requirements.txt (line 2)) (0.0.92)\n",
      "Requirement already satisfied: jsonpatch<2.0,>=1.33 in d:\\environments\\genai-homematch\\env\\lib\\site-packages (from langchain==0.0.305->-r requirements.txt (line 2)) (1.33)\n",
      "Requirement already satisfied: numpy<2,>=1 in d:\\environments\\genai-homematch\\env\\lib\\site-packages (from langchain==0.0.305->-r requirements.txt (line 2)) (1.26.4)\n",
      "Requirement already satisfied: SQLAlchemy<3,>=1.4 in d:\\environments\\genai-homematch\\env\\lib\\site-packages (from langchain==0.0.305->-r requirements.txt (line 2)) (2.0.35)\n",
      "Requirement already satisfied: aiohttp<4.0.0,>=3.8.3 in d:\\environments\\genai-homematch\\env\\lib\\site-packages (from langchain==0.0.305->-r requirements.txt (line 2)) (3.10.5)\n",
      "Requirement already satisfied: anyio<4.0 in d:\\environments\\genai-homematch\\env\\lib\\site-packages (from langchain==0.0.305->-r requirements.txt (line 2)) (3.7.1)\n",
      "Requirement already satisfied: tenacity<9.0.0,>=8.1.0 in d:\\environments\\genai-homematch\\env\\lib\\site-packages (from langchain==0.0.305->-r requirements.txt (line 2)) (8.5.0)\n",
      "Requirement already satisfied: async-timeout<5.0.0,>=4.0.0 in d:\\environments\\genai-homematch\\env\\lib\\site-packages (from langchain==0.0.305->-r requirements.txt (line 2)) (4.0.3)\n",
      "Requirement already satisfied: PyYAML>=5.3 in d:\\environments\\genai-homematch\\env\\lib\\site-packages (from langchain==0.0.305->-r requirements.txt (line 2)) (6.0.2)\n",
      "Requirement already satisfied: dataclasses-json<0.7,>=0.5.7 in d:\\environments\\genai-homematch\\env\\lib\\site-packages (from langchain==0.0.305->-r requirements.txt (line 2)) (0.6.7)\n",
      "Requirement already satisfied: numexpr<3.0.0,>=2.8.4 in d:\\environments\\genai-homematch\\env\\lib\\site-packages (from langchain==0.0.305->-r requirements.txt (line 2)) (2.10.1)\n",
      "Requirement already satisfied: requests<3,>=2 in d:\\environments\\genai-homematch\\env\\lib\\site-packages (from langchain==0.0.305->-r requirements.txt (line 2)) (2.32.3)\n",
      "Requirement already satisfied: tqdm in d:\\environments\\genai-homematch\\env\\lib\\site-packages (from openai==0.28.1->-r requirements.txt (line 3)) (4.66.5)\n",
      "Requirement already satisfied: fastapi<0.100.0,>=0.95.2 in d:\\environments\\genai-homematch\\env\\lib\\site-packages (from chromadb==0.4.12->-r requirements.txt (line 8)) (0.99.1)\n",
      "Requirement already satisfied: typing-extensions>=4.5.0 in d:\\environments\\genai-homematch\\env\\lib\\site-packages (from chromadb==0.4.12->-r requirements.txt (line 8)) (4.12.2)\n",
      "Requirement already satisfied: tokenizers>=0.13.2 in d:\\environments\\genai-homematch\\env\\lib\\site-packages (from chromadb==0.4.12->-r requirements.txt (line 8)) (0.19.1)\n",
      "Requirement already satisfied: pypika>=0.48.9 in d:\\environments\\genai-homematch\\env\\lib\\site-packages (from chromadb==0.4.12->-r requirements.txt (line 8)) (0.48.9)\n",
      "Requirement already satisfied: overrides>=7.3.1 in d:\\environments\\genai-homematch\\env\\lib\\site-packages (from chromadb==0.4.12->-r requirements.txt (line 8)) (7.7.0)\n",
      "Requirement already satisfied: importlib-resources in d:\\environments\\genai-homematch\\env\\lib\\site-packages (from chromadb==0.4.12->-r requirements.txt (line 8)) (6.4.5)\n",
      "Requirement already satisfied: onnxruntime>=1.14.1 in d:\\environments\\genai-homematch\\env\\lib\\site-packages (from chromadb==0.4.12->-r requirements.txt (line 8)) (1.19.2)\n",
      "Requirement already satisfied: bcrypt>=4.0.1 in d:\\environments\\genai-homematch\\env\\lib\\site-packages (from chromadb==0.4.12->-r requirements.txt (line 8)) (4.2.0)\n",
      "Requirement already satisfied: typer>=0.9.0 in d:\\environments\\genai-homematch\\env\\lib\\site-packages (from chromadb==0.4.12->-r requirements.txt (line 8)) (0.12.5)\n",
      "Requirement already satisfied: posthog>=2.4.0 in d:\\environments\\genai-homematch\\env\\lib\\site-packages (from chromadb==0.4.12->-r requirements.txt (line 8)) (3.6.6)\n",
      "Requirement already satisfied: chroma-hnswlib==0.7.3 in d:\\environments\\genai-homematch\\env\\lib\\site-packages (from chromadb==0.4.12->-r requirements.txt (line 8)) (0.7.3)\n",
      "Requirement already satisfied: uvicorn[standard]>=0.18.3 in d:\\environments\\genai-homematch\\env\\lib\\site-packages (from chromadb==0.4.12->-r requirements.txt (line 8)) (0.30.6)\n",
      "Requirement already satisfied: pulsar-client>=3.1.0 in d:\\environments\\genai-homematch\\env\\lib\\site-packages (from chromadb==0.4.12->-r requirements.txt (line 8)) (3.5.0)\n",
      "Requirement already satisfied: jupyter-console in d:\\environments\\genai-homematch\\env\\lib\\site-packages (from jupyter==1.0.0->-r requirements.txt (line 9)) (6.6.3)\n",
      "Requirement already satisfied: ipykernel in d:\\environments\\genai-homematch\\env\\lib\\site-packages (from jupyter==1.0.0->-r requirements.txt (line 9)) (6.29.5)\n",
      "Requirement already satisfied: nbconvert in d:\\environments\\genai-homematch\\env\\lib\\site-packages (from jupyter==1.0.0->-r requirements.txt (line 9)) (7.16.4)\n",
      "Requirement already satisfied: notebook in d:\\environments\\genai-homematch\\env\\lib\\site-packages (from jupyter==1.0.0->-r requirements.txt (line 9)) (7.2.2)\n",
      "Requirement already satisfied: qtconsole in d:\\environments\\genai-homematch\\env\\lib\\site-packages (from jupyter==1.0.0->-r requirements.txt (line 9)) (5.6.0)\n",
      "Requirement already satisfied: regex>=2022.1.18 in d:\\environments\\genai-homematch\\env\\lib\\site-packages (from tiktoken==0.4.0->-r requirements.txt (line 10)) (2024.9.11)\n",
      "Requirement already satisfied: colorama in d:\\environments\\genai-homematch\\env\\lib\\site-packages (from pytest>=7.4.0->-r requirements.txt (line 5)) (0.4.6)\n",
      "Requirement already satisfied: packaging in d:\\environments\\genai-homematch\\env\\lib\\site-packages (from pytest>=7.4.0->-r requirements.txt (line 5)) (24.1)\n",
      "Requirement already satisfied: exceptiongroup>=1.0.0rc8 in d:\\environments\\genai-homematch\\env\\lib\\site-packages (from pytest>=7.4.0->-r requirements.txt (line 5)) (1.2.2)\n",
      "Requirement already satisfied: pluggy<2,>=1.5 in d:\\environments\\genai-homematch\\env\\lib\\site-packages (from pytest>=7.4.0->-r requirements.txt (line 5)) (1.5.0)\n",
      "Requirement already satisfied: iniconfig in d:\\environments\\genai-homematch\\env\\lib\\site-packages (from pytest>=7.4.0->-r requirements.txt (line 5)) (2.0.0)\n",
      "Requirement already satisfied: tomli>=1 in d:\\environments\\genai-homematch\\env\\lib\\site-packages (from pytest>=7.4.0->-r requirements.txt (line 5)) (2.0.1)\n",
      "Requirement already satisfied: huggingface-hub>=0.19.3 in d:\\environments\\genai-homematch\\env\\lib\\site-packages (from sentence-transformers>=2.2.0->-r requirements.txt (line 6)) (0.25.0)\n",
      "Requirement already satisfied: torch>=1.11.0 in d:\\environments\\genai-homematch\\env\\lib\\site-packages (from sentence-transformers>=2.2.0->-r requirements.txt (line 6)) (2.4.1)\n",
      "Requirement already satisfied: scipy in d:\\environments\\genai-homematch\\env\\lib\\site-packages (from sentence-transformers>=2.2.0->-r requirements.txt (line 6)) (1.14.1)\n",
      "Requirement already satisfied: scikit-learn in d:\\environments\\genai-homematch\\env\\lib\\site-packages (from sentence-transformers>=2.2.0->-r requirements.txt (line 6)) (1.5.2)\n",
      "Requirement already satisfied: Pillow in d:\\environments\\genai-homematch\\env\\lib\\site-packages (from sentence-transformers>=2.2.0->-r requirements.txt (line 6)) (10.4.0)\n",
      "Requirement already satisfied: filelock in d:\\environments\\genai-homematch\\env\\lib\\site-packages (from transformers>=4.31.0->-r requirements.txt (line 7)) (3.16.1)\n",
      "Requirement already satisfied: safetensors>=0.4.1 in d:\\environments\\genai-homematch\\env\\lib\\site-packages (from transformers>=4.31.0->-r requirements.txt (line 7)) (0.4.5)\n",
      "Requirement already satisfied: attrs>=21.3.0 in d:\\environments\\genai-homematch\\env\\lib\\site-packages (from lancedb->-r requirements.txt (line 11)) (24.2.0)\n",
      "Requirement already satisfied: retry>=0.9.2 in d:\\environments\\genai-homematch\\env\\lib\\site-packages (from lancedb->-r requirements.txt (line 11)) (0.9.2)\n",
      "Requirement already satisfied: deprecation in d:\\environments\\genai-homematch\\env\\lib\\site-packages (from lancedb->-r requirements.txt (line 11)) (2.1.0)\n",
      "Requirement already satisfied: pylance==0.17.0 in d:\\environments\\genai-homematch\\env\\lib\\site-packages (from lancedb->-r requirements.txt (line 11)) (0.17.0)\n",
      "Requirement already satisfied: cachetools in d:\\environments\\genai-homematch\\env\\lib\\site-packages (from lancedb->-r requirements.txt (line 11)) (5.5.0)\n",
      "Requirement already satisfied: pyarrow>=12 in d:\\environments\\genai-homematch\\env\\lib\\site-packages (from pylance==0.17.0->lancedb->-r requirements.txt (line 11)) (15.0.0)\n",
      "Requirement already satisfied: ipython>=6.1.0 in d:\\environments\\genai-homematch\\env\\lib\\site-packages (from ipywidgets->-r requirements.txt (line 12)) (8.27.0)\n",
      "Requirement already satisfied: jupyterlab-widgets~=3.0.12 in d:\\environments\\genai-homematch\\env\\lib\\site-packages (from ipywidgets->-r requirements.txt (line 12)) (3.0.13)\n",
      "Requirement already satisfied: traitlets>=4.3.1 in d:\\environments\\genai-homematch\\env\\lib\\site-packages (from ipywidgets->-r requirements.txt (line 12)) (5.14.3)\n",
      "Requirement already satisfied: comm>=0.1.3 in d:\\environments\\genai-homematch\\env\\lib\\site-packages (from ipywidgets->-r requirements.txt (line 12)) (0.2.2)\n",
      "Requirement already satisfied: widgetsnbextension~=4.0.12 in d:\\environments\\genai-homematch\\env\\lib\\site-packages (from ipywidgets->-r requirements.txt (line 12)) (4.0.13)\n",
      "Requirement already satisfied: beautifulsoup4 in d:\\environments\\genai-homematch\\env\\lib\\site-packages (from bs4->-r requirements.txt (line 15)) (4.12.3)\n",
      "Requirement already satisfied: typeguard>=4.0.1 in d:\\environments\\genai-homematch\\env\\lib\\site-packages (from inflect->-r requirements.txt (line 16)) (4.3.0)\n",
      "Requirement already satisfied: more-itertools>=8.5.0 in d:\\environments\\genai-homematch\\env\\lib\\site-packages (from inflect->-r requirements.txt (line 16)) (10.5.0)\n",
      "Requirement already satisfied: tzdata>=2022.7 in d:\\environments\\genai-homematch\\env\\lib\\site-packages (from pandas->-r requirements.txt (line 17)) (2024.1)\n",
      "Requirement already satisfied: pytz>=2020.1 in d:\\environments\\genai-homematch\\env\\lib\\site-packages (from pandas->-r requirements.txt (line 17)) (2024.2)\n",
      "Requirement already satisfied: python-dateutil>=2.8.2 in d:\\environments\\genai-homematch\\env\\lib\\site-packages (from pandas->-r requirements.txt (line 17)) (2.9.0.post0)\n",
      "Requirement already satisfied: aiosignal>=1.1.2 in d:\\environments\\genai-homematch\\env\\lib\\site-packages (from aiohttp<4.0.0,>=3.8.3->langchain==0.0.305->-r requirements.txt (line 2)) (1.3.1)\n",
      "Requirement already satisfied: frozenlist>=1.1.1 in d:\\environments\\genai-homematch\\env\\lib\\site-packages (from aiohttp<4.0.0,>=3.8.3->langchain==0.0.305->-r requirements.txt (line 2)) (1.4.1)\n",
      "Requirement already satisfied: multidict<7.0,>=4.5 in d:\\environments\\genai-homematch\\env\\lib\\site-packages (from aiohttp<4.0.0,>=3.8.3->langchain==0.0.305->-r requirements.txt (line 2)) (6.1.0)\n",
      "Requirement already satisfied: aiohappyeyeballs>=2.3.0 in d:\\environments\\genai-homematch\\env\\lib\\site-packages (from aiohttp<4.0.0,>=3.8.3->langchain==0.0.305->-r requirements.txt (line 2)) (2.4.0)\n",
      "Requirement already satisfied: yarl<2.0,>=1.0 in d:\\environments\\genai-homematch\\env\\lib\\site-packages (from aiohttp<4.0.0,>=3.8.3->langchain==0.0.305->-r requirements.txt (line 2)) (1.11.1)\n",
      "Requirement already satisfied: sniffio>=1.1 in d:\\environments\\genai-homematch\\env\\lib\\site-packages (from anyio<4.0->langchain==0.0.305->-r requirements.txt (line 2)) (1.3.1)\n",
      "Requirement already satisfied: idna>=2.8 in d:\\environments\\genai-homematch\\env\\lib\\site-packages (from anyio<4.0->langchain==0.0.305->-r requirements.txt (line 2)) (3.10)\n",
      "Requirement already satisfied: marshmallow<4.0.0,>=3.18.0 in d:\\environments\\genai-homematch\\env\\lib\\site-packages (from dataclasses-json<0.7,>=0.5.7->langchain==0.0.305->-r requirements.txt (line 2)) (3.22.0)\n",
      "Requirement already satisfied: typing-inspect<1,>=0.4.0 in d:\\environments\\genai-homematch\\env\\lib\\site-packages (from dataclasses-json<0.7,>=0.5.7->langchain==0.0.305->-r requirements.txt (line 2)) (0.9.0)\n",
      "Requirement already satisfied: starlette<0.28.0,>=0.27.0 in d:\\environments\\genai-homematch\\env\\lib\\site-packages (from fastapi<0.100.0,>=0.95.2->chromadb==0.4.12->-r requirements.txt (line 8)) (0.27.0)\n",
      "Requirement already satisfied: fsspec>=2023.5.0 in d:\\environments\\genai-homematch\\env\\lib\\site-packages (from huggingface-hub>=0.19.3->sentence-transformers>=2.2.0->-r requirements.txt (line 6)) (2024.9.0)\n",
      "Requirement already satisfied: prompt-toolkit<3.1.0,>=3.0.41 in d:\\environments\\genai-homematch\\env\\lib\\site-packages (from ipython>=6.1.0->ipywidgets->-r requirements.txt (line 12)) (3.0.47)\n",
      "Requirement already satisfied: jedi>=0.16 in d:\\environments\\genai-homematch\\env\\lib\\site-packages (from ipython>=6.1.0->ipywidgets->-r requirements.txt (line 12)) (0.19.1)\n",
      "Requirement already satisfied: decorator in d:\\environments\\genai-homematch\\env\\lib\\site-packages (from ipython>=6.1.0->ipywidgets->-r requirements.txt (line 12)) (5.1.1)\n",
      "Requirement already satisfied: stack-data in d:\\environments\\genai-homematch\\env\\lib\\site-packages (from ipython>=6.1.0->ipywidgets->-r requirements.txt (line 12)) (0.6.3)\n",
      "Requirement already satisfied: pygments>=2.4.0 in d:\\environments\\genai-homematch\\env\\lib\\site-packages (from ipython>=6.1.0->ipywidgets->-r requirements.txt (line 12)) (2.18.0)\n",
      "Requirement already satisfied: matplotlib-inline in d:\\environments\\genai-homematch\\env\\lib\\site-packages (from ipython>=6.1.0->ipywidgets->-r requirements.txt (line 12)) (0.1.7)\n",
      "Requirement already satisfied: jsonpointer>=1.9 in d:\\environments\\genai-homematch\\env\\lib\\site-packages (from jsonpatch<2.0,>=1.33->langchain==0.0.305->-r requirements.txt (line 2)) (3.0.0)\n",
      "Requirement already satisfied: flatbuffers in d:\\environments\\genai-homematch\\env\\lib\\site-packages (from onnxruntime>=1.14.1->chromadb==0.4.12->-r requirements.txt (line 8)) (24.3.25)\n",
      "Requirement already satisfied: sympy in d:\\environments\\genai-homematch\\env\\lib\\site-packages (from onnxruntime>=1.14.1->chromadb==0.4.12->-r requirements.txt (line 8)) (1.13.3)\n",
      "Requirement already satisfied: protobuf in d:\\environments\\genai-homematch\\env\\lib\\site-packages (from onnxruntime>=1.14.1->chromadb==0.4.12->-r requirements.txt (line 8)) (5.28.2)\n",
      "Requirement already satisfied: coloredlogs in d:\\environments\\genai-homematch\\env\\lib\\site-packages (from onnxruntime>=1.14.1->chromadb==0.4.12->-r requirements.txt (line 8)) (15.0.1)\n",
      "Requirement already satisfied: monotonic>=1.5 in d:\\environments\\genai-homematch\\env\\lib\\site-packages (from posthog>=2.4.0->chromadb==0.4.12->-r requirements.txt (line 8)) (1.6)\n",
      "Requirement already satisfied: six>=1.5 in d:\\environments\\genai-homematch\\env\\lib\\site-packages (from posthog>=2.4.0->chromadb==0.4.12->-r requirements.txt (line 8)) (1.16.0)\n",
      "Requirement already satisfied: backoff>=1.10.0 in d:\\environments\\genai-homematch\\env\\lib\\site-packages (from posthog>=2.4.0->chromadb==0.4.12->-r requirements.txt (line 8)) (2.2.1)\n",
      "Requirement already satisfied: certifi in d:\\environments\\genai-homematch\\env\\lib\\site-packages (from pulsar-client>=3.1.0->chromadb==0.4.12->-r requirements.txt (line 8)) (2024.8.30)\n",
      "Requirement already satisfied: urllib3<3,>=1.21.1 in d:\\environments\\genai-homematch\\env\\lib\\site-packages (from requests<3,>=2->langchain==0.0.305->-r requirements.txt (line 2)) (2.2.3)\n",
      "Requirement already satisfied: charset-normalizer<4,>=2 in d:\\environments\\genai-homematch\\env\\lib\\site-packages (from requests<3,>=2->langchain==0.0.305->-r requirements.txt (line 2)) (3.3.2)\n",
      "Requirement already satisfied: py<2.0.0,>=1.4.26 in d:\\environments\\genai-homematch\\env\\lib\\site-packages (from retry>=0.9.2->lancedb->-r requirements.txt (line 11)) (1.11.0)\n",
      "Requirement already satisfied: greenlet!=0.4.17 in d:\\environments\\genai-homematch\\env\\lib\\site-packages (from SQLAlchemy<3,>=1.4->langchain==0.0.305->-r requirements.txt (line 2)) (3.1.1)\n",
      "Requirement already satisfied: networkx in d:\\environments\\genai-homematch\\env\\lib\\site-packages (from torch>=1.11.0->sentence-transformers>=2.2.0->-r requirements.txt (line 6)) (3.3)\n",
      "Requirement already satisfied: jinja2 in d:\\environments\\genai-homematch\\env\\lib\\site-packages (from torch>=1.11.0->sentence-transformers>=2.2.0->-r requirements.txt (line 6)) (3.1.4)\n",
      "Requirement already satisfied: rich>=10.11.0 in d:\\environments\\genai-homematch\\env\\lib\\site-packages (from typer>=0.9.0->chromadb==0.4.12->-r requirements.txt (line 8)) (13.8.1)\n",
      "Requirement already satisfied: shellingham>=1.3.0 in d:\\environments\\genai-homematch\\env\\lib\\site-packages (from typer>=0.9.0->chromadb==0.4.12->-r requirements.txt (line 8)) (1.5.4)\n",
      "Requirement already satisfied: click>=8.0.0 in d:\\environments\\genai-homematch\\env\\lib\\site-packages (from typer>=0.9.0->chromadb==0.4.12->-r requirements.txt (line 8)) (8.1.7)\n",
      "Requirement already satisfied: h11>=0.8 in d:\\environments\\genai-homematch\\env\\lib\\site-packages (from uvicorn[standard]>=0.18.3->chromadb==0.4.12->-r requirements.txt (line 8)) (0.14.0)\n",
      "Requirement already satisfied: watchfiles>=0.13 in d:\\environments\\genai-homematch\\env\\lib\\site-packages (from uvicorn[standard]>=0.18.3->chromadb==0.4.12->-r requirements.txt (line 8)) (0.24.0)\n",
      "Requirement already satisfied: httptools>=0.5.0 in d:\\environments\\genai-homematch\\env\\lib\\site-packages (from uvicorn[standard]>=0.18.3->chromadb==0.4.12->-r requirements.txt (line 8)) (0.6.1)\n",
      "Requirement already satisfied: python-dotenv>=0.13 in d:\\environments\\genai-homematch\\env\\lib\\site-packages (from uvicorn[standard]>=0.18.3->chromadb==0.4.12->-r requirements.txt (line 8)) (1.0.1)\n",
      "Requirement already satisfied: websockets>=10.4 in d:\\environments\\genai-homematch\\env\\lib\\site-packages (from uvicorn[standard]>=0.18.3->chromadb==0.4.12->-r requirements.txt (line 8)) (13.1)\n",
      "Requirement already satisfied: soupsieve>1.2 in d:\\environments\\genai-homematch\\env\\lib\\site-packages (from beautifulsoup4->bs4->-r requirements.txt (line 15)) (2.6)\n",
      "Requirement already satisfied: psutil in d:\\environments\\genai-homematch\\env\\lib\\site-packages (from ipykernel->jupyter==1.0.0->-r requirements.txt (line 9)) (6.0.0)\n",
      "Requirement already satisfied: jupyter-core!=5.0.*,>=4.12 in d:\\environments\\genai-homematch\\env\\lib\\site-packages (from ipykernel->jupyter==1.0.0->-r requirements.txt (line 9)) (5.7.2)\n",
      "Requirement already satisfied: nest-asyncio in d:\\environments\\genai-homematch\\env\\lib\\site-packages (from ipykernel->jupyter==1.0.0->-r requirements.txt (line 9)) (1.6.0)\n",
      "Requirement already satisfied: debugpy>=1.6.5 in d:\\environments\\genai-homematch\\env\\lib\\site-packages (from ipykernel->jupyter==1.0.0->-r requirements.txt (line 9)) (1.8.5)\n",
      "Requirement already satisfied: pyzmq>=24 in d:\\environments\\genai-homematch\\env\\lib\\site-packages (from ipykernel->jupyter==1.0.0->-r requirements.txt (line 9)) (26.2.0)\n",
      "Requirement already satisfied: jupyter-client>=6.1.12 in d:\\environments\\genai-homematch\\env\\lib\\site-packages (from ipykernel->jupyter==1.0.0->-r requirements.txt (line 9)) (8.6.3)\n",
      "Requirement already satisfied: tornado>=6.1 in d:\\environments\\genai-homematch\\env\\lib\\site-packages (from ipykernel->jupyter==1.0.0->-r requirements.txt (line 9)) (6.4.1)\n",
      "Requirement already satisfied: nbformat>=5.7 in d:\\environments\\genai-homematch\\env\\lib\\site-packages (from nbconvert->jupyter==1.0.0->-r requirements.txt (line 9)) (5.10.4)\n",
      "Requirement already satisfied: markupsafe>=2.0 in d:\\environments\\genai-homematch\\env\\lib\\site-packages (from nbconvert->jupyter==1.0.0->-r requirements.txt (line 9)) (2.1.5)\n",
      "Requirement already satisfied: nbclient>=0.5.0 in d:\\environments\\genai-homematch\\env\\lib\\site-packages (from nbconvert->jupyter==1.0.0->-r requirements.txt (line 9)) (0.10.0)\n",
      "Requirement already satisfied: bleach!=5.0.0 in d:\\environments\\genai-homematch\\env\\lib\\site-packages (from nbconvert->jupyter==1.0.0->-r requirements.txt (line 9)) (6.1.0)\n",
      "Requirement already satisfied: tinycss2 in d:\\environments\\genai-homematch\\env\\lib\\site-packages (from nbconvert->jupyter==1.0.0->-r requirements.txt (line 9)) (1.3.0)\n",
      "Requirement already satisfied: mistune<4,>=2.0.3 in d:\\environments\\genai-homematch\\env\\lib\\site-packages (from nbconvert->jupyter==1.0.0->-r requirements.txt (line 9)) (3.0.2)\n",
      "Requirement already satisfied: pandocfilters>=1.4.1 in d:\\environments\\genai-homematch\\env\\lib\\site-packages (from nbconvert->jupyter==1.0.0->-r requirements.txt (line 9)) (1.5.1)\n",
      "Requirement already satisfied: jupyterlab-pygments in d:\\environments\\genai-homematch\\env\\lib\\site-packages (from nbconvert->jupyter==1.0.0->-r requirements.txt (line 9)) (0.3.0)\n",
      "Requirement already satisfied: defusedxml in d:\\environments\\genai-homematch\\env\\lib\\site-packages (from nbconvert->jupyter==1.0.0->-r requirements.txt (line 9)) (0.7.1)\n",
      "Requirement already satisfied: jupyterlab<4.3,>=4.2.0 in d:\\environments\\genai-homematch\\env\\lib\\site-packages (from notebook->jupyter==1.0.0->-r requirements.txt (line 9)) (4.2.5)\n",
      "Requirement already satisfied: notebook-shim<0.3,>=0.2 in d:\\environments\\genai-homematch\\env\\lib\\site-packages (from notebook->jupyter==1.0.0->-r requirements.txt (line 9)) (0.2.4)\n",
      "Requirement already satisfied: jupyterlab-server<3,>=2.27.1 in d:\\environments\\genai-homematch\\env\\lib\\site-packages (from notebook->jupyter==1.0.0->-r requirements.txt (line 9)) (2.27.3)\n",
      "Requirement already satisfied: jupyter-server<3,>=2.4.0 in d:\\environments\\genai-homematch\\env\\lib\\site-packages (from notebook->jupyter==1.0.0->-r requirements.txt (line 9)) (2.14.2)\n",
      "Requirement already satisfied: qtpy>=2.4.0 in d:\\environments\\genai-homematch\\env\\lib\\site-packages (from qtconsole->jupyter==1.0.0->-r requirements.txt (line 9)) (2.4.1)\n",
      "Requirement already satisfied: threadpoolctl>=3.1.0 in d:\\environments\\genai-homematch\\env\\lib\\site-packages (from scikit-learn->sentence-transformers>=2.2.0->-r requirements.txt (line 6)) (3.5.0)\n",
      "Requirement already satisfied: joblib>=1.2.0 in d:\\environments\\genai-homematch\\env\\lib\\site-packages (from scikit-learn->sentence-transformers>=2.2.0->-r requirements.txt (line 6)) (1.4.2)\n",
      "Requirement already satisfied: webencodings in d:\\environments\\genai-homematch\\env\\lib\\site-packages (from bleach!=5.0.0->nbconvert->jupyter==1.0.0->-r requirements.txt (line 9)) (0.5.1)\n",
      "Requirement already satisfied: parso<0.9.0,>=0.8.3 in d:\\environments\\genai-homematch\\env\\lib\\site-packages (from jedi>=0.16->ipython>=6.1.0->ipywidgets->-r requirements.txt (line 12)) (0.8.4)\n",
      "Requirement already satisfied: platformdirs>=2.5 in d:\\environments\\genai-homematch\\env\\lib\\site-packages (from jupyter-core!=5.0.*,>=4.12->ipykernel->jupyter==1.0.0->-r requirements.txt (line 9)) (4.3.6)\n",
      "Requirement already satisfied: pywin32>=300 in d:\\environments\\genai-homematch\\env\\lib\\site-packages (from jupyter-core!=5.0.*,>=4.12->ipykernel->jupyter==1.0.0->-r requirements.txt (line 9)) (306)\n",
      "Requirement already satisfied: pywinpty>=2.0.1 in d:\\environments\\genai-homematch\\env\\lib\\site-packages (from jupyter-server<3,>=2.4.0->notebook->jupyter==1.0.0->-r requirements.txt (line 9)) (2.0.13)\n",
      "Requirement already satisfied: websocket-client>=1.7 in d:\\environments\\genai-homematch\\env\\lib\\site-packages (from jupyter-server<3,>=2.4.0->notebook->jupyter==1.0.0->-r requirements.txt (line 9)) (1.8.0)\n",
      "Requirement already satisfied: argon2-cffi>=21.1 in d:\\environments\\genai-homematch\\env\\lib\\site-packages (from jupyter-server<3,>=2.4.0->notebook->jupyter==1.0.0->-r requirements.txt (line 9)) (23.1.0)\n",
      "Requirement already satisfied: terminado>=0.8.3 in d:\\environments\\genai-homematch\\env\\lib\\site-packages (from jupyter-server<3,>=2.4.0->notebook->jupyter==1.0.0->-r requirements.txt (line 9)) (0.18.1)\n",
      "Requirement already satisfied: send2trash>=1.8.2 in d:\\environments\\genai-homematch\\env\\lib\\site-packages (from jupyter-server<3,>=2.4.0->notebook->jupyter==1.0.0->-r requirements.txt (line 9)) (1.8.3)\n",
      "Requirement already satisfied: jupyter-server-terminals>=0.4.4 in d:\\environments\\genai-homematch\\env\\lib\\site-packages (from jupyter-server<3,>=2.4.0->notebook->jupyter==1.0.0->-r requirements.txt (line 9)) (0.5.3)\n",
      "Requirement already satisfied: prometheus-client>=0.9 in d:\\environments\\genai-homematch\\env\\lib\\site-packages (from jupyter-server<3,>=2.4.0->notebook->jupyter==1.0.0->-r requirements.txt (line 9)) (0.21.0)\n",
      "Requirement already satisfied: jupyter-events>=0.9.0 in d:\\environments\\genai-homematch\\env\\lib\\site-packages (from jupyter-server<3,>=2.4.0->notebook->jupyter==1.0.0->-r requirements.txt (line 9)) (0.10.0)\n",
      "Requirement already satisfied: async-lru>=1.0.0 in d:\\environments\\genai-homematch\\env\\lib\\site-packages (from jupyterlab<4.3,>=4.2.0->notebook->jupyter==1.0.0->-r requirements.txt (line 9)) (2.0.4)\n",
      "Requirement already satisfied: jupyter-lsp>=2.0.0 in d:\\environments\\genai-homematch\\env\\lib\\site-packages (from jupyterlab<4.3,>=4.2.0->notebook->jupyter==1.0.0->-r requirements.txt (line 9)) (2.2.5)\n",
      "Requirement already satisfied: httpx>=0.25.0 in d:\\environments\\genai-homematch\\env\\lib\\site-packages (from jupyterlab<4.3,>=4.2.0->notebook->jupyter==1.0.0->-r requirements.txt (line 9)) (0.27.2)\n",
      "Requirement already satisfied: setuptools>=40.1.0 in d:\\environments\\genai-homematch\\env\\lib\\site-packages (from jupyterlab<4.3,>=4.2.0->notebook->jupyter==1.0.0->-r requirements.txt (line 9)) (65.5.0)\n",
      "Requirement already satisfied: jsonschema>=4.18.0 in d:\\environments\\genai-homematch\\env\\lib\\site-packages (from jupyterlab-server<3,>=2.27.1->notebook->jupyter==1.0.0->-r requirements.txt (line 9)) (4.23.0)\n",
      "Requirement already satisfied: json5>=0.9.0 in d:\\environments\\genai-homematch\\env\\lib\\site-packages (from jupyterlab-server<3,>=2.27.1->notebook->jupyter==1.0.0->-r requirements.txt (line 9)) (0.9.25)\n",
      "Requirement already satisfied: babel>=2.10 in d:\\environments\\genai-homematch\\env\\lib\\site-packages (from jupyterlab-server<3,>=2.27.1->notebook->jupyter==1.0.0->-r requirements.txt (line 9)) (2.16.0)\n",
      "Requirement already satisfied: fastjsonschema>=2.15 in d:\\environments\\genai-homematch\\env\\lib\\site-packages (from nbformat>=5.7->nbconvert->jupyter==1.0.0->-r requirements.txt (line 9)) (2.20.0)\n",
      "Requirement already satisfied: wcwidth in d:\\environments\\genai-homematch\\env\\lib\\site-packages (from prompt-toolkit<3.1.0,>=3.0.41->ipython>=6.1.0->ipywidgets->-r requirements.txt (line 12)) (0.2.13)\n",
      "Requirement already satisfied: markdown-it-py>=2.2.0 in d:\\environments\\genai-homematch\\env\\lib\\site-packages (from rich>=10.11.0->typer>=0.9.0->chromadb==0.4.12->-r requirements.txt (line 8)) (3.0.0)\n",
      "Requirement already satisfied: mypy-extensions>=0.3.0 in d:\\environments\\genai-homematch\\env\\lib\\site-packages (from typing-inspect<1,>=0.4.0->dataclasses-json<0.7,>=0.5.7->langchain==0.0.305->-r requirements.txt (line 2)) (1.0.0)\n",
      "Requirement already satisfied: humanfriendly>=9.1 in d:\\environments\\genai-homematch\\env\\lib\\site-packages (from coloredlogs->onnxruntime>=1.14.1->chromadb==0.4.12->-r requirements.txt (line 8)) (10.0)\n",
      "Requirement already satisfied: asttokens>=2.1.0 in d:\\environments\\genai-homematch\\env\\lib\\site-packages (from stack-data->ipython>=6.1.0->ipywidgets->-r requirements.txt (line 12)) (2.4.1)\n",
      "Requirement already satisfied: executing>=1.2.0 in d:\\environments\\genai-homematch\\env\\lib\\site-packages (from stack-data->ipython>=6.1.0->ipywidgets->-r requirements.txt (line 12)) (2.1.0)\n",
      "Requirement already satisfied: pure-eval in d:\\environments\\genai-homematch\\env\\lib\\site-packages (from stack-data->ipython>=6.1.0->ipywidgets->-r requirements.txt (line 12)) (0.2.3)\n",
      "Requirement already satisfied: mpmath<1.4,>=1.1.0 in d:\\environments\\genai-homematch\\env\\lib\\site-packages (from sympy->onnxruntime>=1.14.1->chromadb==0.4.12->-r requirements.txt (line 8)) (1.3.0)\n",
      "Requirement already satisfied: argon2-cffi-bindings in d:\\environments\\genai-homematch\\env\\lib\\site-packages (from argon2-cffi>=21.1->jupyter-server<3,>=2.4.0->notebook->jupyter==1.0.0->-r requirements.txt (line 9)) (21.2.0)\n",
      "Requirement already satisfied: httpcore==1.* in d:\\environments\\genai-homematch\\env\\lib\\site-packages (from httpx>=0.25.0->jupyterlab<4.3,>=4.2.0->notebook->jupyter==1.0.0->-r requirements.txt (line 9)) (1.0.5)\n",
      "Requirement already satisfied: pyreadline3 in d:\\environments\\genai-homematch\\env\\lib\\site-packages (from humanfriendly>=9.1->coloredlogs->onnxruntime>=1.14.1->chromadb==0.4.12->-r requirements.txt (line 8)) (3.5.4)\n",
      "Requirement already satisfied: jsonschema-specifications>=2023.03.6 in d:\\environments\\genai-homematch\\env\\lib\\site-packages (from jsonschema>=4.18.0->jupyterlab-server<3,>=2.27.1->notebook->jupyter==1.0.0->-r requirements.txt (line 9)) (2023.12.1)\n",
      "Requirement already satisfied: referencing>=0.28.4 in d:\\environments\\genai-homematch\\env\\lib\\site-packages (from jsonschema>=4.18.0->jupyterlab-server<3,>=2.27.1->notebook->jupyter==1.0.0->-r requirements.txt (line 9)) (0.35.1)\n",
      "Requirement already satisfied: rpds-py>=0.7.1 in d:\\environments\\genai-homematch\\env\\lib\\site-packages (from jsonschema>=4.18.0->jupyterlab-server<3,>=2.27.1->notebook->jupyter==1.0.0->-r requirements.txt (line 9)) (0.20.0)\n",
      "Requirement already satisfied: python-json-logger>=2.0.4 in d:\\environments\\genai-homematch\\env\\lib\\site-packages (from jupyter-events>=0.9.0->jupyter-server<3,>=2.4.0->notebook->jupyter==1.0.0->-r requirements.txt (line 9)) (2.0.7)\n",
      "Requirement already satisfied: rfc3339-validator in d:\\environments\\genai-homematch\\env\\lib\\site-packages (from jupyter-events>=0.9.0->jupyter-server<3,>=2.4.0->notebook->jupyter==1.0.0->-r requirements.txt (line 9)) (0.1.4)\n",
      "Requirement already satisfied: rfc3986-validator>=0.1.1 in d:\\environments\\genai-homematch\\env\\lib\\site-packages (from jupyter-events>=0.9.0->jupyter-server<3,>=2.4.0->notebook->jupyter==1.0.0->-r requirements.txt (line 9)) (0.1.1)\n",
      "Requirement already satisfied: mdurl~=0.1 in d:\\environments\\genai-homematch\\env\\lib\\site-packages (from markdown-it-py>=2.2.0->rich>=10.11.0->typer>=0.9.0->chromadb==0.4.12->-r requirements.txt (line 8)) (0.1.2)\n",
      "Requirement already satisfied: fqdn in d:\\environments\\genai-homematch\\env\\lib\\site-packages (from jsonschema>=4.18.0->jupyterlab-server<3,>=2.27.1->notebook->jupyter==1.0.0->-r requirements.txt (line 9)) (1.5.1)\n",
      "Requirement already satisfied: uri-template in d:\\environments\\genai-homematch\\env\\lib\\site-packages (from jsonschema>=4.18.0->jupyterlab-server<3,>=2.27.1->notebook->jupyter==1.0.0->-r requirements.txt (line 9)) (1.3.0)\n",
      "Requirement already satisfied: isoduration in d:\\environments\\genai-homematch\\env\\lib\\site-packages (from jsonschema>=4.18.0->jupyterlab-server<3,>=2.27.1->notebook->jupyter==1.0.0->-r requirements.txt (line 9)) (20.11.0)\n",
      "Requirement already satisfied: webcolors>=24.6.0 in d:\\environments\\genai-homematch\\env\\lib\\site-packages (from jsonschema>=4.18.0->jupyterlab-server<3,>=2.27.1->notebook->jupyter==1.0.0->-r requirements.txt (line 9)) (24.8.0)\n",
      "Requirement already satisfied: cffi>=1.0.1 in d:\\environments\\genai-homematch\\env\\lib\\site-packages (from argon2-cffi-bindings->argon2-cffi>=21.1->jupyter-server<3,>=2.4.0->notebook->jupyter==1.0.0->-r requirements.txt (line 9)) (1.17.1)\n",
      "Requirement already satisfied: pycparser in d:\\environments\\genai-homematch\\env\\lib\\site-packages (from cffi>=1.0.1->argon2-cffi-bindings->argon2-cffi>=21.1->jupyter-server<3,>=2.4.0->notebook->jupyter==1.0.0->-r requirements.txt (line 9)) (2.22)\n",
      "Requirement already satisfied: arrow>=0.15.0 in d:\\environments\\genai-homematch\\env\\lib\\site-packages (from isoduration->jsonschema>=4.18.0->jupyterlab-server<3,>=2.27.1->notebook->jupyter==1.0.0->-r requirements.txt (line 9)) (1.3.0)\n",
      "Requirement already satisfied: types-python-dateutil>=2.8.10 in d:\\environments\\genai-homematch\\env\\lib\\site-packages (from arrow>=0.15.0->isoduration->jsonschema>=4.18.0->jupyterlab-server<3,>=2.27.1->notebook->jupyter==1.0.0->-r requirements.txt (line 9)) (2.9.0.20240906)\n"
     ]
    },
    {
     "name": "stderr",
     "output_type": "stream",
     "text": [
      "\n",
      "[notice] A new release of pip available: 22.3.1 -> 24.2\n",
      "[notice] To update, run: python.exe -m pip install --upgrade pip\n"
     ]
    }
   ],
   "source": [
    "!pip install -r requirements.txt"
   ]
  },
  {
   "cell_type": "markdown",
   "id": "aa80e1d8-dc20-4fdc-8173-f7703ced080e",
   "metadata": {},
   "source": [
    "### check openai version"
   ]
  },
  {
   "cell_type": "code",
   "execution_count": 3,
   "id": "362fe630-2a4d-4bd1-a523-10a3f3604ab3",
   "metadata": {},
   "outputs": [
    {
     "name": "stdout",
     "output_type": "stream",
     "text": [
      "0.28.1\n"
     ]
    }
   ],
   "source": [
    "import openai\n",
    "print(openai.__version__)"
   ]
  },
  {
   "cell_type": "markdown",
   "id": "3b62c3e0-2116-4194-874d-8e3c1cbea9cf",
   "metadata": {},
   "source": [
    "### Import Libraries"
   ]
  },
  {
   "cell_type": "code",
   "execution_count": 4,
   "id": "c93d61e9",
   "metadata": {},
   "outputs": [],
   "source": [
    "import os\n",
    "import json\n",
    "import re\n",
    "import pandas as pd\n",
    "import numpy as np\n",
    "import openai\n",
    "\n",
    "from bs4 import BeautifulSoup\n",
    "from markdown import markdown\n",
    "\n",
    "from langchain.schema import HumanMessage, SystemMessage\n",
    "from langchain.chat_models import ChatOpenAI\n",
    "from langchain.document_loaders import TextLoader\n",
    "from langchain.embeddings import OpenAIEmbeddings\n",
    "from langchain.text_splitter import CharacterTextSplitter\n",
    "from langchain.vectorstores import LanceDB\n",
    "\n",
    "from lancedb.rerankers import LinearCombinationReranker\n",
    "import inflect\n",
    "import lancedb\n",
    "from lancedb.embeddings import get_registry\n",
    "from lancedb.pydantic import LanceModel, Vector\n",
    "\n",
    "import ipywidgets as widgets\n",
    "from IPython.display import display\n",
    "from ipywidgets import Layout, Button, Box, FloatText, Textarea, Dropdown, Label, IntSlider, FloatSlider"
   ]
  },
  {
   "cell_type": "markdown",
   "id": "e9fbb498-7712-4dc0-9f44-dbb22d8139c5",
   "metadata": {},
   "source": [
    "### define listing file name"
   ]
  },
  {
   "cell_type": "code",
   "execution_count": 5,
   "id": "10fb139a",
   "metadata": {},
   "outputs": [],
   "source": [
    "db_file = \"home_match.json\""
   ]
  },
  {
   "cell_type": "markdown",
   "id": "9cce00f1-e2f2-4482-ac2c-0ac89d9abe4f",
   "metadata": {},
   "source": [
    "### Define the system prompt for the AI model"
   ]
  },
  {
   "cell_type": "code",
   "execution_count": 6,
   "id": "ac8ad74e-4c40-4480-a04a-55f64a529a52",
   "metadata": {},
   "outputs": [],
   "source": [
    "system_prompt = \"\"\"\n",
    "You are an expert real estate agent in Los Angeles in the USA.\n",
    "\"\"\""
   ]
  },
  {
   "cell_type": "markdown",
   "id": "34b60079-f9b6-4920-b21a-c26fffa7965f",
   "metadata": {},
   "source": [
    "### Define the human prompt to generate real estate listings"
   ]
  },
  {
   "cell_type": "code",
   "execution_count": 7,
   "id": "e8755325-1bb3-42ec-a9dc-455b25c2ca23",
   "metadata": {},
   "outputs": [],
   "source": [
    "human_prompt= \"\"\"\n",
    "      Generate a minimum of 10 real estate listings using creativity and incorporating real properties as well.\n",
    "      Ensure the listings are distributed across all the areas and regions within the Los Angeles City. \n",
    "      Each listing should be represented as a JSON array of dictionaries, following the structure provided below:\n",
    "\n",
    "        {\n",
    "        \"location\": \"Downtown Los Angeles\",\n",
    "        \"list_price\": 1800000,\n",
    "        \"bedrooms\": 3,\n",
    "        \"bathrooms\": 2,\n",
    "        \"square_feet\": 1800,\n",
    "        \"school_rating\": 4.5,\n",
    "        \"description\": \"Luxurious penthouse with floor-to-ceiling windows, boasting stunning city views. Features a gourmet kitchen, spacious open layout, and private balcony. Building amenities include a rooftop pool, gym, and 24-hour concierge.\"\n",
    "       }\n",
    "    \"\"\""
   ]
  },
  {
   "cell_type": "markdown",
   "id": "5aa57b12-2e9c-46c0-8155-dff05b04b8c6",
   "metadata": {},
   "source": [
    "### Check if the database file exists"
   ]
  },
  {
   "cell_type": "code",
   "execution_count": 8,
   "id": "fda5d12b-8caf-488e-9c31-9bff4bd20fb2",
   "metadata": {},
   "outputs": [],
   "source": [
    "if os.path.isfile(path=db_file):\n",
    "    # If it exists, read the existing real estate listings\n",
    "    with open(db_file, \"r\") as f:\n",
    "        real_estate_listings = f.read()\n",
    "else:\n",
    "    # If it does not exist, invoke the AI model to generate new listings\n",
    "    chat = ChatOpenAI(temperature=1)  # Set temperature for creativity in responses\n",
    "    messages = [\n",
    "        SystemMessage(content=system_prompt),\n",
    "        HumanMessage(content=human_prompt),\n",
    "    ]\n",
    "    \n",
    "    # Get the AI-generated message\n",
    "    ai_message = chat.invoke(messages)\n",
    "    # Parse the response as JSON\n",
    "    real_estate_listings = json.loads(ai_message.json())[\"content\"]"
   ]
  },
  {
   "cell_type": "code",
   "execution_count": 9,
   "id": "14f77c34-0b28-4be7-84ab-94e635179ddf",
   "metadata": {},
   "outputs": [
    {
     "name": "stdout",
     "output_type": "stream",
     "text": [
      "[\n",
      "  {\n",
      "    \"location\": \"Downtown Los Angeles\",\n",
      "    \"list_price\": 1800000,\n",
      "    \"bedrooms\": 3,\n",
      "    \"bathrooms\": 2,\n",
      "    \"square_feet\": 1800,\n",
      "    \"school_rating\": 4.5,\n",
      "    \"description\": \"Luxurious penthouse with floor-to-ceiling windows, boasting stunning city views. Features a gourmet kitchen, spacious open layout, and private balcony. Building amenities include a rooftop pool, gym, and 24-hour concierge.\"\n",
      "  },\n",
      "  {\n",
      "    \"location\": \"Hollywood\",\n",
      "    \"list_price\": 2500000,\n",
      "    \"bedrooms\": 4,\n",
      "    \"bathrooms\": 4,\n",
      "    \"square_feet\": 2400,\n",
      "    \"school_rating\": 4.6,\n",
      "    \"description\": \"Modern villa nestled in the Hollywood Hills, featuring a home theater, infinity pool, and panoramic views of the city. This home is a true entertainer's dream, complete with high-end finishes and smart home technology.\"\n",
      "  },\n",
      "  {\n",
      "    \"location\": \"Santa Monica\",\n",
      "    \"list_price\": 3200000,\n",
      "    \"bedrooms\": 5,\n",
      "    \"bathrooms\": 4,\n",
      "    \"square_feet\": 3000,\n",
      "    \"school_rating\": 4.8,\n",
      "    \"description\": \"Stunning beachfront property with private access to the sand. This newly renovated home includes a chef's kitchen, spacious deck for entertaining, and large windows offering breathtaking ocean views. Walking distance to the pier and local dining.\"\n",
      "  },\n",
      "  {\n",
      "    \"location\": \"Sherman Oaks\",\n",
      "    \"list_price\": 1450000,\n",
      "    \"bedrooms\": 3,\n",
      "    \"bathrooms\": 2,\n",
      "    \"square_feet\": 2000,\n",
      "    \"school_rating\": 4.7,\n",
      "    \"description\": \"Charming ranch-style home in the heart of the Valley. Features an updated kitchen, large backyard with pool, and a cozy fireplace. Located on a quiet street with top-rated schools and easy access to Ventura Blvd.\"\n",
      "  },\n",
      "  {\n",
      "    \"location\": \"Silver Lake\",\n",
      "    \"list_price\": 1700000,\n",
      "    \"bedrooms\": 4,\n",
      "    \"bathrooms\": 3,\n",
      "    \"square_feet\": 2200,\n",
      "    \"school_rating\": 4.4,\n",
      "    \"description\": \"Architectural gem with modern design and eco-friendly features. This home includes solar panels, an open floor plan, and a rooftop garden. Located in a trendy neighborhood known for its vibrant art scene and cafes.\"\n",
      "  },\n",
      "  {\n",
      "    \"location\": \"Venice\",\n",
      "    \"list_price\": 2700000,\n",
      "    \"bedrooms\": 3,\n",
      "    \"bathrooms\": 3,\n",
      "    \"square_feet\": 2000,\n",
      "    \"school_rating\": 4.5,\n",
      "    \"description\": \"Contemporary beachfront condo just steps from the iconic Venice Boardwalk. Features include a gourmet kitchen, open-concept living area, and private rooftop deck with ocean views. Building offers a fitness center and secured parking.\"\n",
      "  },\n",
      "  {\n",
      "    \"location\": \"Beverly Hills\",\n",
      "    \"list_price\": 5200000,\n",
      "    \"bedrooms\": 6,\n",
      "    \"bathrooms\": 4,\n",
      "    \"square_feet\": 6000,\n",
      "    \"school_rating\": 4.9,\n",
      "    \"description\": \"Palatial estate in the heart of Beverly Hills, boasting a private gated entrance, grand foyer, and expansive outdoor entertaining spaces with a pool and tennis court. This luxurious home offers ultimate privacy and sophistication.\"\n",
      "  },\n",
      "  {\n",
      "    \"location\": \"Brentwood\",\n",
      "    \"list_price\": 4100000,\n",
      "    \"bedrooms\": 5,\n",
      "    \"bathrooms\": 3,\n",
      "    \"square_feet\": 4500,\n",
      "    \"school_rating\": 4.8,\n",
      "    \"description\": \"Elegant family home with a spacious layout, gourmet kitchen, and large backyard with a pool and garden. Located in a highly desirable neighborhood, close to parks, top-rated schools, and the Brentwood Country Club.\"\n",
      "  },\n",
      "  {\n",
      "    \"location\": \"Echo Park\",\n",
      "    \"list_price\": 1200000,\n",
      "    \"bedrooms\": 3,\n",
      "    \"bathrooms\": 2,\n",
      "    \"square_feet\": 1600,\n",
      "    \"school_rating\": 4.3,\n",
      "    \"description\": \"Mid-century modern home with open spaces, vaulted ceilings, and large windows providing plenty of natural light. This property features a private garden and is steps away from Echo Park Lake and local dining hotspots.\"\n",
      "  },\n",
      "  {\n",
      "    \"location\": \"San Pedro\",\n",
      "    \"list_price\": 950000,\n",
      "    \"bedrooms\": 3,\n",
      "    \"bathrooms\": 2,\n",
      "    \"square_feet\": 1800,\n",
      "    \"school_rating\": 4.1,\n",
      "    \"description\": \"Charming coastal home with harbor views and a spacious backyard. Updated kitchen and bathrooms, with easy access to the marina, parks, and San Pedro's vibrant waterfront.\"\n",
      "  }\n",
      "]\n"
     ]
    }
   ],
   "source": [
    "# Convert the listings to markdown format\n",
    "md_text = markdown(real_estate_listings)\n",
    "\n",
    "# Extract text content from the markdown using BeautifulSoup\n",
    "real_estate_listings_text = ''.join(BeautifulSoup(md_text, 'html.parser').findAll(string=True))\n",
    "\n",
    "# Clean up the JSON string for storage\n",
    "real_estate_listings_json = real_estate_listings_text.replace('json\\n', '')\n",
    "\n",
    "# Output the JSON string\n",
    "print(real_estate_listings_json)"
   ]
  },
  {
   "cell_type": "markdown",
   "id": "6910110e-b4ca-4270-84d1-371c86de7157",
   "metadata": {},
   "source": [
    "### Write the new listings to the database file"
   ]
  },
  {
   "cell_type": "code",
   "execution_count": 10,
   "id": "9f1d123b-2d00-43ee-b855-ca6bd561db6c",
   "metadata": {},
   "outputs": [],
   "source": [
    "with open(db_file, \"w\") as f:\n",
    "    f.write(real_estate_listings_json)"
   ]
  },
  {
   "cell_type": "markdown",
   "id": "51d230ef-a56f-49f5-a072-9fcc28f344e5",
   "metadata": {},
   "source": [
    "### Load real estate listings from the JSON file"
   ]
  },
  {
   "cell_type": "code",
   "execution_count": 11,
   "id": "ca993986-da77-49e8-a6eb-6c7627315ec2",
   "metadata": {},
   "outputs": [],
   "source": [
    "df = pd.read_json(db_file)"
   ]
  },
  {
   "cell_type": "code",
   "execution_count": 12,
   "id": "1a137d4f-1047-41d4-a36f-062d496b73e4",
   "metadata": {},
   "outputs": [
    {
     "data": {
      "text/html": [
       "<div>\n",
       "<style scoped>\n",
       "    .dataframe tbody tr th:only-of-type {\n",
       "        vertical-align: middle;\n",
       "    }\n",
       "\n",
       "    .dataframe tbody tr th {\n",
       "        vertical-align: top;\n",
       "    }\n",
       "\n",
       "    .dataframe thead th {\n",
       "        text-align: right;\n",
       "    }\n",
       "</style>\n",
       "<table border=\"1\" class=\"dataframe\">\n",
       "  <thead>\n",
       "    <tr style=\"text-align: right;\">\n",
       "      <th></th>\n",
       "      <th>location</th>\n",
       "      <th>list_price</th>\n",
       "      <th>bedrooms</th>\n",
       "      <th>bathrooms</th>\n",
       "      <th>square_feet</th>\n",
       "      <th>school_rating</th>\n",
       "      <th>description</th>\n",
       "    </tr>\n",
       "  </thead>\n",
       "  <tbody>\n",
       "    <tr>\n",
       "      <th>0</th>\n",
       "      <td>Downtown Los Angeles</td>\n",
       "      <td>1800000</td>\n",
       "      <td>3</td>\n",
       "      <td>2</td>\n",
       "      <td>1800</td>\n",
       "      <td>4.5</td>\n",
       "      <td>Luxurious penthouse with floor-to-ceiling wind...</td>\n",
       "    </tr>\n",
       "    <tr>\n",
       "      <th>1</th>\n",
       "      <td>Hollywood</td>\n",
       "      <td>2500000</td>\n",
       "      <td>4</td>\n",
       "      <td>4</td>\n",
       "      <td>2400</td>\n",
       "      <td>4.6</td>\n",
       "      <td>Modern villa nestled in the Hollywood Hills, f...</td>\n",
       "    </tr>\n",
       "    <tr>\n",
       "      <th>2</th>\n",
       "      <td>Santa Monica</td>\n",
       "      <td>3200000</td>\n",
       "      <td>5</td>\n",
       "      <td>4</td>\n",
       "      <td>3000</td>\n",
       "      <td>4.8</td>\n",
       "      <td>Stunning beachfront property with private acce...</td>\n",
       "    </tr>\n",
       "    <tr>\n",
       "      <th>3</th>\n",
       "      <td>Sherman Oaks</td>\n",
       "      <td>1450000</td>\n",
       "      <td>3</td>\n",
       "      <td>2</td>\n",
       "      <td>2000</td>\n",
       "      <td>4.7</td>\n",
       "      <td>Charming ranch-style home in the heart of the ...</td>\n",
       "    </tr>\n",
       "    <tr>\n",
       "      <th>4</th>\n",
       "      <td>Silver Lake</td>\n",
       "      <td>1700000</td>\n",
       "      <td>4</td>\n",
       "      <td>3</td>\n",
       "      <td>2200</td>\n",
       "      <td>4.4</td>\n",
       "      <td>Architectural gem with modern design and eco-f...</td>\n",
       "    </tr>\n",
       "    <tr>\n",
       "      <th>5</th>\n",
       "      <td>Venice</td>\n",
       "      <td>2700000</td>\n",
       "      <td>3</td>\n",
       "      <td>3</td>\n",
       "      <td>2000</td>\n",
       "      <td>4.5</td>\n",
       "      <td>Contemporary beachfront condo just steps from ...</td>\n",
       "    </tr>\n",
       "    <tr>\n",
       "      <th>6</th>\n",
       "      <td>Beverly Hills</td>\n",
       "      <td>5200000</td>\n",
       "      <td>6</td>\n",
       "      <td>4</td>\n",
       "      <td>6000</td>\n",
       "      <td>4.9</td>\n",
       "      <td>Palatial estate in the heart of Beverly Hills,...</td>\n",
       "    </tr>\n",
       "    <tr>\n",
       "      <th>7</th>\n",
       "      <td>Brentwood</td>\n",
       "      <td>4100000</td>\n",
       "      <td>5</td>\n",
       "      <td>3</td>\n",
       "      <td>4500</td>\n",
       "      <td>4.8</td>\n",
       "      <td>Elegant family home with a spacious layout, go...</td>\n",
       "    </tr>\n",
       "    <tr>\n",
       "      <th>8</th>\n",
       "      <td>Echo Park</td>\n",
       "      <td>1200000</td>\n",
       "      <td>3</td>\n",
       "      <td>2</td>\n",
       "      <td>1600</td>\n",
       "      <td>4.3</td>\n",
       "      <td>Mid-century modern home with open spaces, vaul...</td>\n",
       "    </tr>\n",
       "    <tr>\n",
       "      <th>9</th>\n",
       "      <td>San Pedro</td>\n",
       "      <td>950000</td>\n",
       "      <td>3</td>\n",
       "      <td>2</td>\n",
       "      <td>1800</td>\n",
       "      <td>4.1</td>\n",
       "      <td>Charming coastal home with harbor views and a ...</td>\n",
       "    </tr>\n",
       "  </tbody>\n",
       "</table>\n",
       "</div>"
      ],
      "text/plain": [
       "               location  list_price  bedrooms  bathrooms  square_feet  \\\n",
       "0  Downtown Los Angeles     1800000         3          2         1800   \n",
       "1             Hollywood     2500000         4          4         2400   \n",
       "2          Santa Monica     3200000         5          4         3000   \n",
       "3          Sherman Oaks     1450000         3          2         2000   \n",
       "4           Silver Lake     1700000         4          3         2200   \n",
       "5                Venice     2700000         3          3         2000   \n",
       "6         Beverly Hills     5200000         6          4         6000   \n",
       "7             Brentwood     4100000         5          3         4500   \n",
       "8             Echo Park     1200000         3          2         1600   \n",
       "9             San Pedro      950000         3          2         1800   \n",
       "\n",
       "   school_rating                                        description  \n",
       "0            4.5  Luxurious penthouse with floor-to-ceiling wind...  \n",
       "1            4.6  Modern villa nestled in the Hollywood Hills, f...  \n",
       "2            4.8  Stunning beachfront property with private acce...  \n",
       "3            4.7  Charming ranch-style home in the heart of the ...  \n",
       "4            4.4  Architectural gem with modern design and eco-f...  \n",
       "5            4.5  Contemporary beachfront condo just steps from ...  \n",
       "6            4.9  Palatial estate in the heart of Beverly Hills,...  \n",
       "7            4.8  Elegant family home with a spacious layout, go...  \n",
       "8            4.3  Mid-century modern home with open spaces, vaul...  \n",
       "9            4.1  Charming coastal home with harbor views and a ...  "
      ]
     },
     "execution_count": 12,
     "metadata": {},
     "output_type": "execute_result"
    }
   ],
   "source": [
    "df"
   ]
  },
  {
   "cell_type": "markdown",
   "id": "69426942-88e0-4457-b13b-7f92bca90695",
   "metadata": {},
   "source": [
    "### Connect to LanceDB"
   ]
  },
  {
   "cell_type": "code",
   "execution_count": 13,
   "id": "a1651a3c-5310-41c1-83ad-c6a3bb21510e",
   "metadata": {},
   "outputs": [],
   "source": [
    "db = lancedb.connect(\"real-estate-embeddings-db\")"
   ]
  },
  {
   "cell_type": "markdown",
   "id": "6249d1c9-19f5-4433-abcf-6f7d418adede",
   "metadata": {},
   "source": [
    "### Define the schema for the real estate listings"
   ]
  },
  {
   "cell_type": "code",
   "execution_count": 14,
   "id": "daa94874-65ed-44d9-a27b-212fdc147aed",
   "metadata": {},
   "outputs": [],
   "source": [
    "class RealEstateListings(LanceModel):\n",
    "    location: str\n",
    "    list_price: float\n",
    "    bedrooms: float\n",
    "    bathrooms: float\n",
    "    square_feet: float\n",
    "    school_rating: float\n",
    "    description: str\n",
    "    description_vector: Vector(1536)  # Vector for storing embeddings"
   ]
  },
  {
   "cell_type": "markdown",
   "id": "3aeab6a7-1e4f-44af-841f-720be2177c51",
   "metadata": {},
   "source": [
    "### Check if the listings table exists in the database"
   ]
  },
  {
   "cell_type": "code",
   "execution_count": 15,
   "id": "f6ffa164-92d2-4bc5-ab98-8e52e422dcd4",
   "metadata": {},
   "outputs": [],
   "source": [
    "if 'listings' in db.table_names():\n",
    "    # Open the existing listings table\n",
    "    table = db.open_table(\"listings\")\n",
    "else:\n",
    "    # Create a new listings table with the defined schema\n",
    "    table = db.create_table(\"listings\", schema=RealEstateListings)\n",
    "    \n",
    "    # Prepare data for insertion into the database\n",
    "    data = []\n",
    "    for _, row in df.iterrows():\n",
    "        # Call OpenAI API to get embeddings for the property description\n",
    "        response = openai.Embedding.create(\n",
    "            model=\"text-embedding-ada-002\",  # Specify the model for embeddings\n",
    "            input=row[\"description\"]\n",
    "        )\n",
    "        \n",
    "        # Extract the embedding vector from the API response\n",
    "        embedding_vector = response['data'][0]['embedding']\n",
    "        \n",
    "        # Append the data for the table\n",
    "        data.append({\n",
    "            \"location\": row[\"location\"],\n",
    "            \"list_price\": row[\"list_price\"],\n",
    "            \"bedrooms\": row[\"bedrooms\"],\n",
    "            \"bathrooms\": row[\"bathrooms\"],\n",
    "            \"square_feet\": row[\"square_feet\"],\n",
    "            \"school_rating\": row[\"school_rating\"],\n",
    "            \"description\": row[\"description\"],\n",
    "            \"description_vector\": embedding_vector  # Include the embedding vector\n",
    "        })\n",
    "    \n",
    "    # Add the prepared data to the table\n",
    "    table.add(data)"
   ]
  },
  {
   "cell_type": "markdown",
   "id": "544ff1f9-1e3a-49a3-bf76-5b3abf2c93c3",
   "metadata": {},
   "source": [
    "### Print the first few rows of the table as a Pandas DataFrame"
   ]
  },
  {
   "cell_type": "code",
   "execution_count": 16,
   "id": "e8ed2daf-2fea-4a77-aa3d-89c69f753075",
   "metadata": {},
   "outputs": [
    {
     "name": "stdout",
     "output_type": "stream",
     "text": [
      "               location  list_price  bedrooms  bathrooms  square_feet  \\\n",
      "0  Downtown Los Angeles   1800000.0       3.0        2.0       1800.0   \n",
      "1             Hollywood   2500000.0       4.0        4.0       2400.0   \n",
      "2          Santa Monica   3200000.0       5.0        4.0       3000.0   \n",
      "3          Sherman Oaks   1450000.0       3.0        2.0       2000.0   \n",
      "4           Silver Lake   1700000.0       4.0        3.0       2200.0   \n",
      "\n",
      "   school_rating                                        description  \\\n",
      "0            4.5  Luxurious penthouse with floor-to-ceiling wind...   \n",
      "1            4.6  Modern villa nestled in the Hollywood Hills, f...   \n",
      "2            4.8  Stunning beachfront property with private acce...   \n",
      "3            4.7  Charming ranch-style home in the heart of the ...   \n",
      "4            4.4  Architectural gem with modern design and eco-f...   \n",
      "\n",
      "                                  description_vector  \n",
      "0  [0.0045068543, 0.0021039487, 0.008447941, -0.0...  \n",
      "1  [-0.008112394, -0.0009720663, -0.0023914124, -...  \n",
      "2  [-0.0031856077, 0.0017617376, 0.023554191, -0....  \n",
      "3  [-0.0015524372, 0.030469513, -0.005012455, -0....  \n",
      "4  [0.000758627, 0.012596925, -0.0009355592, 0.00...  \n"
     ]
    }
   ],
   "source": [
    "print(table.to_pandas().head())"
   ]
  },
  {
   "cell_type": "markdown",
   "id": "f7618167-9856-4535-a5c3-082808b2a9a4",
   "metadata": {},
   "source": [
    "### An inline user interface designed to capture buyer preferences"
   ]
  },
  {
   "cell_type": "code",
   "execution_count": 17,
   "id": "3f62f626-d9f2-430e-9601-36d82fda2ffb",
   "metadata": {},
   "outputs": [],
   "source": [
    "# Define the layout for each form item (label and input field)\n",
    "form_item_layout = Layout(\n",
    "    display='flex',         # Flexbox layout for row alignment\n",
    "    flex_flow='row',        # Align the label and slider in a row\n",
    "    justify_content='space-between'  # Space the items evenly\n",
    ")\n",
    "\n",
    "# Create a list of form items (each with a label and corresponding input)\n",
    "form_items = [\n",
    "    Box([Label(value='Max Price'), FloatSlider(min=1000000, max=5000000, step=10000, value=5000000)], layout=form_item_layout),\n",
    "    Box([Label(value='Bedrooms Minimum'), FloatSlider(min=1, max=10, step=1)], layout=form_item_layout),\n",
    "    Box([Label(value='Bathrooms Minimum'), FloatSlider(min=1, max=10, step=1)], layout=form_item_layout),\n",
    "    Box([Label(value='School Ratings'), FloatSlider(min=1, max=5, step=1)], layout=form_item_layout),\n",
    "    Box([Label(value='Square Footage'), FloatSlider(min=1000, max=5000, step=500)], layout=form_item_layout),\n",
    "    Box([Label(value='Preferences'), Textarea(value=\"Modern villa nestled in the Hollywood Hills\")], layout=form_item_layout)\n",
    "]\n",
    "\n",
    "# Define the overall layout for the form, aligning items vertically\n",
    "form = Box(form_items, layout=Layout(\n",
    "    display='flex',          # Flexbox layout for the form\n",
    "    flex_flow='column',      # Arrange the form items in a column\n",
    "    border='solid 2px',      # Add a border around the form\n",
    "    align_items='stretch',   # Stretch form items to fill the width\n",
    "    width='50%'              # Set the form width to 50% of the available space\n",
    "))"
   ]
  },
  {
   "cell_type": "code",
   "execution_count": 18,
   "id": "92985939-b352-400e-bf83-9ea88acc0087",
   "metadata": {},
   "outputs": [
    {
     "data": {
      "application/vnd.jupyter.widget-view+json": {
       "model_id": "3117129a539f4f898cd2a28867e48cc0",
       "version_major": 2,
       "version_minor": 0
      },
      "text/plain": [
       "Box(children=(Box(children=(Label(value='Max Price'), FloatSlider(value=5000000.0, max=5000000.0, min=1000000.…"
      ]
     },
     "execution_count": 18,
     "metadata": {},
     "output_type": "execute_result"
    }
   ],
   "source": [
    "# Display the form\n",
    "form"
   ]
  },
  {
   "cell_type": "code",
   "execution_count": 19,
   "id": "322d3476-4623-498f-bb67-5dc1b405bafc",
   "metadata": {},
   "outputs": [
    {
     "name": "stdout",
     "output_type": "stream",
     "text": [
      "5000000.0\n",
      "1.0\n",
      "1.0\n",
      "1.0\n",
      "1000.0\n",
      "Modern villa nestled in the Hollywood Hills\n"
     ]
    }
   ],
   "source": [
    "max_price = form_items[0].children[1].value\n",
    "bedrooms = form_items[1].children[1].value\n",
    "bathrooms = form_items[2].children[1].value\n",
    "school_rating = form_items[3].children[1].value\n",
    "square_feet = form_items[4].children[1].value\n",
    "preferences = form_items[5].children[1].value\n",
    "print(max_price)\n",
    "print(bedrooms)\n",
    "print(bathrooms)\n",
    "print(school_rating)\n",
    "print(square_feet)\n",
    "print(preferences)"
   ]
  },
  {
   "cell_type": "markdown",
   "id": "6ae5d678-7946-402a-b220-69ce6d311d5b",
   "metadata": {},
   "source": [
    "### Apply a prefilter using numeric preferences, followed by a vector search for textual preferences"
   ]
  },
  {
   "cell_type": "markdown",
   "id": "2ff4e101-4c78-4631-969a-6ba10aec028f",
   "metadata": {},
   "source": [
    "##### 1. Connect to the LanceDB real estate embeddings database"
   ]
  },
  {
   "cell_type": "code",
   "execution_count": 20,
   "id": "e8538051-aec6-4451-9a1d-c775284ab56a",
   "metadata": {},
   "outputs": [],
   "source": [
    "db = lancedb.connect(\"real-estate-embeddings-db\")"
   ]
  },
  {
   "cell_type": "markdown",
   "id": "be281de8-1aab-4adc-bfb9-9dfdbf993f62",
   "metadata": {},
   "source": [
    "##### 2. open/use to the 'listings' table"
   ]
  },
  {
   "cell_type": "code",
   "execution_count": 21,
   "id": "2760bdcc-632c-42a3-bf51-566c6d9b6f15",
   "metadata": {},
   "outputs": [],
   "source": [
    "table = db.open_table(\"listings\")"
   ]
  },
  {
   "cell_type": "code",
   "execution_count": 22,
   "id": "4ada3a8c-e4ce-4ae5-848f-c86b14ba2ace",
   "metadata": {},
   "outputs": [
    {
     "name": "stdout",
     "output_type": "stream",
     "text": [
      "               location  list_price  bedrooms  bathrooms  square_feet  \\\n",
      "0  Downtown Los Angeles   1800000.0       3.0        2.0       1800.0   \n",
      "1             Hollywood   2500000.0       4.0        4.0       2400.0   \n",
      "2          Santa Monica   3200000.0       5.0        4.0       3000.0   \n",
      "3          Sherman Oaks   1450000.0       3.0        2.0       2000.0   \n",
      "4           Silver Lake   1700000.0       4.0        3.0       2200.0   \n",
      "\n",
      "   school_rating                                        description  \\\n",
      "0            4.5  Luxurious penthouse with floor-to-ceiling wind...   \n",
      "1            4.6  Modern villa nestled in the Hollywood Hills, f...   \n",
      "2            4.8  Stunning beachfront property with private acce...   \n",
      "3            4.7  Charming ranch-style home in the heart of the ...   \n",
      "4            4.4  Architectural gem with modern design and eco-f...   \n",
      "\n",
      "                                  description_vector  \n",
      "0  [0.0045068543, 0.0021039487, 0.008447941, -0.0...  \n",
      "1  [-0.008112394, -0.0009720663, -0.0023914124, -...  \n",
      "2  [-0.0031856077, 0.0017617376, 0.023554191, -0....  \n",
      "3  [-0.0015524372, 0.030469513, -0.005012455, -0....  \n",
      "4  [0.000758627, 0.012596925, -0.0009355592, 0.00...  \n"
     ]
    }
   ],
   "source": [
    "print(table.to_pandas().head())"
   ]
  },
  {
   "cell_type": "markdown",
   "id": "7b809906-748d-404a-a76e-297f30464881",
   "metadata": {},
   "source": [
    "#### 3. Define the filter expression for querying based on user preferences"
   ]
  },
  {
   "cell_type": "code",
   "execution_count": 23,
   "id": "2f4c0b22-37a0-4361-93d3-4fb4cc2456dc",
   "metadata": {},
   "outputs": [
    {
     "data": {
      "text/plain": [
       "'list_price < 5000000.0 and bedrooms > 1.0 and bathrooms > 1.0 and school_rating > 1.0 and square_feet > 1000.0'"
      ]
     },
     "execution_count": 23,
     "metadata": {},
     "output_type": "execute_result"
    }
   ],
   "source": [
    "filter_expr = f\"list_price < {max_price} and bedrooms > {bedrooms} and bathrooms > {bathrooms} and school_rating > {school_rating} and square_feet > {square_feet}\"\n",
    "filter_expr"
   ]
  },
  {
   "cell_type": "markdown",
   "id": "51a6d2be-066c-49f6-9432-b931e6c4945e",
   "metadata": {},
   "source": [
    "#### 4. Create a full-text search index on the 'description' column"
   ]
  },
  {
   "cell_type": "code",
   "execution_count": 24,
   "id": "c7b4b388-7795-45a3-a158-41fb6ddeddb4",
   "metadata": {},
   "outputs": [],
   "source": [
    "table.create_fts_index(\"description\", replace=True)"
   ]
  },
  {
   "cell_type": "markdown",
   "id": "78cf8e18-b743-4dda-b169-9954f07a7ee2",
   "metadata": {},
   "source": [
    "#### 5. perform the search on the table using the user’s property preferences and filter results"
   ]
  },
  {
   "cell_type": "code",
   "execution_count": 25,
   "id": "c4e0ed3c-7e32-4a2b-a08f-f4a2a2bc9f96",
   "metadata": {},
   "outputs": [
    {
     "data": {
      "text/html": [
       "<div>\n",
       "<style scoped>\n",
       "    .dataframe tbody tr th:only-of-type {\n",
       "        vertical-align: middle;\n",
       "    }\n",
       "\n",
       "    .dataframe tbody tr th {\n",
       "        vertical-align: top;\n",
       "    }\n",
       "\n",
       "    .dataframe thead th {\n",
       "        text-align: right;\n",
       "    }\n",
       "</style>\n",
       "<table border=\"1\" class=\"dataframe\">\n",
       "  <thead>\n",
       "    <tr style=\"text-align: right;\">\n",
       "      <th></th>\n",
       "      <th>location</th>\n",
       "      <th>list_price</th>\n",
       "      <th>bedrooms</th>\n",
       "      <th>bathrooms</th>\n",
       "      <th>square_feet</th>\n",
       "      <th>school_rating</th>\n",
       "      <th>description</th>\n",
       "      <th>description_vector</th>\n",
       "      <th>_score</th>\n",
       "    </tr>\n",
       "  </thead>\n",
       "  <tbody>\n",
       "    <tr>\n",
       "      <th>0</th>\n",
       "      <td>Hollywood</td>\n",
       "      <td>2500000.0</td>\n",
       "      <td>4.0</td>\n",
       "      <td>4.0</td>\n",
       "      <td>2400.0</td>\n",
       "      <td>4.6</td>\n",
       "      <td>Modern villa nestled in the Hollywood Hills, f...</td>\n",
       "      <td>[-0.008112394, -0.0009720663, -0.0023914124, -...</td>\n",
       "      <td>9.608468</td>\n",
       "    </tr>\n",
       "    <tr>\n",
       "      <th>1</th>\n",
       "      <td>Silver Lake</td>\n",
       "      <td>1700000.0</td>\n",
       "      <td>4.0</td>\n",
       "      <td>3.0</td>\n",
       "      <td>2200.0</td>\n",
       "      <td>4.4</td>\n",
       "      <td>Architectural gem with modern design and eco-f...</td>\n",
       "      <td>[0.000758627, 0.012596925, -0.0009355592, 0.00...</td>\n",
       "      <td>1.818644</td>\n",
       "    </tr>\n",
       "    <tr>\n",
       "      <th>2</th>\n",
       "      <td>Sherman Oaks</td>\n",
       "      <td>1450000.0</td>\n",
       "      <td>3.0</td>\n",
       "      <td>2.0</td>\n",
       "      <td>2000.0</td>\n",
       "      <td>4.7</td>\n",
       "      <td>Charming ranch-style home in the heart of the ...</td>\n",
       "      <td>[-0.0015524372, 0.030469513, -0.005012455, -0....</td>\n",
       "      <td>1.184155</td>\n",
       "    </tr>\n",
       "    <tr>\n",
       "      <th>3</th>\n",
       "      <td>Echo Park</td>\n",
       "      <td>1200000.0</td>\n",
       "      <td>3.0</td>\n",
       "      <td>2.0</td>\n",
       "      <td>1600.0</td>\n",
       "      <td>4.3</td>\n",
       "      <td>Mid-century modern home with open spaces, vaul...</td>\n",
       "      <td>[-0.0070071816, 0.00036274552, 0.00920135, -0....</td>\n",
       "      <td>1.132900</td>\n",
       "    </tr>\n",
       "  </tbody>\n",
       "</table>\n",
       "</div>"
      ],
      "text/plain": [
       "       location  list_price  bedrooms  bathrooms  square_feet  school_rating  \\\n",
       "0     Hollywood   2500000.0       4.0        4.0       2400.0            4.6   \n",
       "1   Silver Lake   1700000.0       4.0        3.0       2200.0            4.4   \n",
       "2  Sherman Oaks   1450000.0       3.0        2.0       2000.0            4.7   \n",
       "3     Echo Park   1200000.0       3.0        2.0       1600.0            4.3   \n",
       "\n",
       "                                         description  \\\n",
       "0  Modern villa nestled in the Hollywood Hills, f...   \n",
       "1  Architectural gem with modern design and eco-f...   \n",
       "2  Charming ranch-style home in the heart of the ...   \n",
       "3  Mid-century modern home with open spaces, vaul...   \n",
       "\n",
       "                                  description_vector    _score  \n",
       "0  [-0.008112394, -0.0009720663, -0.0023914124, -...  9.608468  \n",
       "1  [0.000758627, 0.012596925, -0.0009355592, 0.00...  1.818644  \n",
       "2  [-0.0015524372, 0.030469513, -0.005012455, -0....  1.184155  \n",
       "3  [-0.0070071816, 0.00036274552, 0.00920135, -0....  1.132900  "
      ]
     },
     "execution_count": 25,
     "metadata": {},
     "output_type": "execute_result"
    }
   ],
   "source": [
    "filtered_df = table.search(query=preferences, vector_column_name=\"description_vector\", fts_columns=[\"description\"]).where(filter_expr, prefilter=True).limit(5).to_pandas()\n",
    "\n",
    "# Display the first few rows of the filtered DataFrame\n",
    "filtered_df.head()"
   ]
  },
  {
   "cell_type": "code",
   "execution_count": 26,
   "id": "c465058c-2046-4848-9c0b-4e341e79937f",
   "metadata": {},
   "outputs": [
    {
     "name": "stdout",
     "output_type": "stream",
     "text": [
      "Table schema:\n",
      "location: string not null\n",
      "list_price: double not null\n",
      "bedrooms: double not null\n",
      "bathrooms: double not null\n",
      "square_feet: double not null\n",
      "school_rating: double not null\n",
      "description: string not null\n",
      "description_vector: fixed_size_list<item: float>[1536] not null\n",
      "  child 0, item: float\n"
     ]
    }
   ],
   "source": [
    "# Check the table schema\n",
    "print(\"Table schema:\")\n",
    "print(table.schema)"
   ]
  },
  {
   "cell_type": "markdown",
   "id": "f0598158-7f6f-4b33-8ab7-b55110b0928b",
   "metadata": {},
   "source": [
    "### Customize listings for personalization"
   ]
  },
  {
   "cell_type": "code",
   "execution_count": 27,
   "id": "de746f61-ea7b-4e92-888e-2cfe0ad81b35",
   "metadata": {},
   "outputs": [],
   "source": [
    "def generate_real_estate_response(query, df):\n",
    "    \"\"\"\n",
    "    Generates a response to a real estate query based on provided property listings.\n",
    "\n",
    "    Args:\n",
    "    query (str): User's query regarding real estate properties.\n",
    "    df (DataFrame): DataFrame containing real estate listings with columns like location, list_price, bedrooms, bathrooms, square_feet, school_rating, and description.\n",
    "\n",
    "    Returns:\n",
    "    str: AI-generated response using the listings context and the user query.\n",
    "    \"\"\"\n",
    "    \n",
    "    # Initialize inflect engine to convert numbers to words\n",
    "    p = inflect.engine()\n",
    "    \n",
    "    # Build the context string for the properties\n",
    "    context_list = []\n",
    "\n",
    "    for index, row in df.iterrows():\n",
    "        listing_context = (\n",
    "            f\"Located in {row['location']} with a list price of {p.number_to_words(int(row['list_price']))}, \"\n",
    "            f\"that has {p.number_to_words(int(row['bedrooms']))} bedrooms, \"\n",
    "            f\"{p.number_to_words(int(row['bathrooms']))} bathrooms, \"\n",
    "            f\"{int(row['square_feet'])} square feet, and a school rating of {row['school_rating']}. \"\n",
    "            f\"{row['description']}.\\n\\n\"\n",
    "        )\n",
    "        context_list.append(listing_context)\n",
    "    \n",
    "    # Combine all property contexts into one string\n",
    "    context = ''.join(context_list)\n",
    "\n",
    "    # Send context and user query to OpenAI API for generating the response\n",
    "    response = openai.ChatCompletion.create(\n",
    "        model=\"gpt-3.5-turbo\",\n",
    "        messages=[\n",
    "            {\n",
    "                \"role\": \"system\",\n",
    "                \"content\": (\n",
    "                    \"You are an expert real estate agent that answers user's questions based on the context provided.\\n\"\n",
    "                    \"Do not make up an answer if you do not know it, stay within the bounds of the context provided.\\n\"\n",
    "                    \"If you don't know the answer, say that you don't have enough information on the topic!\"\n",
    "                ),\n",
    "            },\n",
    "            {\"role\": \"user\", \"content\": f\"CONTEXT: {context}\\nQUERY: {query}\"},\n",
    "            {\"role\": \"user\", \"content\": \"ANSWER:\"},\n",
    "        ],\n",
    "    )\n",
    "\n",
    "    # Extract and return the AI-generated response\n",
    "    return response.choices[0].message['content'].strip()\n"
   ]
  },
  {
   "cell_type": "code",
   "execution_count": 28,
   "id": "10008c9d-e1db-4a15-8c68-b2e92229dbfa",
   "metadata": {},
   "outputs": [
    {
     "name": "stdout",
     "output_type": "stream",
     "text": [
      "The top 2 listings based on the information provided are:\n",
      "\n",
      "1. Hollywood Hills: \n",
      "- List price: $2,500,000\n",
      "- Bedrooms: 4\n",
      "- Bathrooms: 4\n",
      "- Square footage: 2400\n",
      "- School rating: 4.6\n",
      "- Features: Modern villa with home theater, infinity pool, panoramic views, high-end finishes, smart home technology.\n",
      "\n",
      "2. Silver Lake: \n",
      "- List price: $1,700,000\n",
      "- Bedrooms: 4\n",
      "- Bathrooms: 3\n",
      "- Square footage: 2200\n",
      "- School rating: 4.4\n",
      "- Features: Architectural gem with modern design, eco-friendly features such as solar panels, open floor plan, rooftop garden. Trendy neighborhood known for its vibrant art scene and cafes.\n"
     ]
    }
   ],
   "source": [
    "response1 = generate_real_estate_response(\"Provide a factual summary of the top 2 listings.\", filtered_df)\n",
    "print(response1)"
   ]
  },
  {
   "cell_type": "code",
   "execution_count": 29,
   "id": "76d77309-ddac-4d84-94c1-ce1547fec3b5",
   "metadata": {},
   "outputs": [
    {
     "name": "stdout",
     "output_type": "stream",
     "text": [
      "The top 2 listings with 3 bedrooms are:\n",
      "\n",
      "1. Located in Sherman Oaks with a list price of one million, four hundred and fifty thousand. It features three bedrooms, two bathrooms, 2000 square feet, and a school rating of 4.7. This charming ranch-style home has an updated kitchen, large backyard with a pool, and a cozy fireplace. It is situated on a quiet street with top-rated schools and easy access to Ventura Blvd.\n",
      "\n",
      "2. Located in Echo Park with a list price of one million, two hundred thousand. This property offers three bedrooms, two bathrooms, 1600 square feet, and a school rating of 4.3. It is a mid-century modern home with open spaces, vaulted ceilings, and large windows providing ample natural light. The house also features a private garden and is conveniently located near Echo Park Lake and local dining hotspots.\n"
     ]
    }
   ],
   "source": [
    "response2 = generate_real_estate_response(\"Provide a factual summary of the top 2 listings with 3 bedrooms\", filtered_df)\n",
    "print(response2)"
   ]
  },
  {
   "cell_type": "code",
   "execution_count": null,
   "id": "800cd7ae-c611-4660-aeba-1634f7865aa5",
   "metadata": {},
   "outputs": [],
   "source": []
  }
 ],
 "metadata": {
  "kernelspec": {
   "display_name": "Python 3 (ipykernel)",
   "language": "python",
   "name": "python3"
  },
  "language_info": {
   "codemirror_mode": {
    "name": "ipython",
    "version": 3
   },
   "file_extension": ".py",
   "mimetype": "text/x-python",
   "name": "python",
   "nbconvert_exporter": "python",
   "pygments_lexer": "ipython3",
   "version": "3.10.9"
  }
 },
 "nbformat": 4,
 "nbformat_minor": 5
}
